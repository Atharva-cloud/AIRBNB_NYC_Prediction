{
 "cells": [
  {
   "cell_type": "code",
   "execution_count": 3,
   "id": "cac0ea13",
   "metadata": {},
   "outputs": [],
   "source": [
    "from sklearn import preprocessing, metrics\n",
    "from sklearn.linear_model import LinearRegression\n",
    "from sklearn.linear_model import Lasso\n",
    "from sklearn.ensemble import RandomForestRegressor\n",
    "from sklearn.model_selection import train_test_split\n",
    "import numpy as np\n",
    "import pandas as pd\n",
    "import seaborn as sns\n",
    "import matplotlib.pyplot as plt\n",
    "sns.set(style=\"ticks\", color_codes=True)\n",
    "import statsmodels.api as sm\n",
    "from scipy import stats"
   ]
  },
  {
   "cell_type": "code",
   "execution_count": 4,
   "id": "1cef2a6c",
   "metadata": {},
   "outputs": [
    {
     "data": {
      "text/html": [
       "<div>\n",
       "<style scoped>\n",
       "    .dataframe tbody tr th:only-of-type {\n",
       "        vertical-align: middle;\n",
       "    }\n",
       "\n",
       "    .dataframe tbody tr th {\n",
       "        vertical-align: top;\n",
       "    }\n",
       "\n",
       "    .dataframe thead th {\n",
       "        text-align: right;\n",
       "    }\n",
       "</style>\n",
       "<table border=\"1\" class=\"dataframe\">\n",
       "  <thead>\n",
       "    <tr style=\"text-align: right;\">\n",
       "      <th></th>\n",
       "      <th>id</th>\n",
       "      <th>name</th>\n",
       "      <th>host_id</th>\n",
       "      <th>host_name</th>\n",
       "      <th>neighbourhood_group</th>\n",
       "      <th>neighbourhood</th>\n",
       "      <th>latitude</th>\n",
       "      <th>longitude</th>\n",
       "      <th>room_type</th>\n",
       "      <th>price</th>\n",
       "      <th>minimum_nights</th>\n",
       "      <th>number_of_reviews</th>\n",
       "      <th>last_review</th>\n",
       "      <th>reviews_per_month</th>\n",
       "      <th>calculated_host_listings_count</th>\n",
       "      <th>availability_365</th>\n",
       "    </tr>\n",
       "  </thead>\n",
       "  <tbody>\n",
       "    <tr>\n",
       "      <th>0</th>\n",
       "      <td>2539</td>\n",
       "      <td>Clean &amp; quiet apt home by the park</td>\n",
       "      <td>2787</td>\n",
       "      <td>John</td>\n",
       "      <td>Brooklyn</td>\n",
       "      <td>Kensington</td>\n",
       "      <td>40.64749</td>\n",
       "      <td>-73.97237</td>\n",
       "      <td>Private room</td>\n",
       "      <td>149</td>\n",
       "      <td>1</td>\n",
       "      <td>9</td>\n",
       "      <td>2018-10-19</td>\n",
       "      <td>0.21</td>\n",
       "      <td>6</td>\n",
       "      <td>365</td>\n",
       "    </tr>\n",
       "    <tr>\n",
       "      <th>1</th>\n",
       "      <td>2595</td>\n",
       "      <td>Skylit Midtown Castle</td>\n",
       "      <td>2845</td>\n",
       "      <td>Jennifer</td>\n",
       "      <td>Manhattan</td>\n",
       "      <td>Midtown</td>\n",
       "      <td>40.75362</td>\n",
       "      <td>-73.98377</td>\n",
       "      <td>Entire home/apt</td>\n",
       "      <td>225</td>\n",
       "      <td>1</td>\n",
       "      <td>45</td>\n",
       "      <td>2019-05-21</td>\n",
       "      <td>0.38</td>\n",
       "      <td>2</td>\n",
       "      <td>355</td>\n",
       "    </tr>\n",
       "    <tr>\n",
       "      <th>2</th>\n",
       "      <td>3647</td>\n",
       "      <td>THE VILLAGE OF HARLEM....NEW YORK !</td>\n",
       "      <td>4632</td>\n",
       "      <td>Elisabeth</td>\n",
       "      <td>Manhattan</td>\n",
       "      <td>Harlem</td>\n",
       "      <td>40.80902</td>\n",
       "      <td>-73.94190</td>\n",
       "      <td>Private room</td>\n",
       "      <td>150</td>\n",
       "      <td>3</td>\n",
       "      <td>0</td>\n",
       "      <td>NaN</td>\n",
       "      <td>NaN</td>\n",
       "      <td>1</td>\n",
       "      <td>365</td>\n",
       "    </tr>\n",
       "    <tr>\n",
       "      <th>3</th>\n",
       "      <td>3831</td>\n",
       "      <td>Cozy Entire Floor of Brownstone</td>\n",
       "      <td>4869</td>\n",
       "      <td>LisaRoxanne</td>\n",
       "      <td>Brooklyn</td>\n",
       "      <td>Clinton Hill</td>\n",
       "      <td>40.68514</td>\n",
       "      <td>-73.95976</td>\n",
       "      <td>Entire home/apt</td>\n",
       "      <td>89</td>\n",
       "      <td>1</td>\n",
       "      <td>270</td>\n",
       "      <td>2019-07-05</td>\n",
       "      <td>4.64</td>\n",
       "      <td>1</td>\n",
       "      <td>194</td>\n",
       "    </tr>\n",
       "    <tr>\n",
       "      <th>4</th>\n",
       "      <td>5022</td>\n",
       "      <td>Entire Apt: Spacious Studio/Loft by central park</td>\n",
       "      <td>7192</td>\n",
       "      <td>Laura</td>\n",
       "      <td>Manhattan</td>\n",
       "      <td>East Harlem</td>\n",
       "      <td>40.79851</td>\n",
       "      <td>-73.94399</td>\n",
       "      <td>Entire home/apt</td>\n",
       "      <td>80</td>\n",
       "      <td>10</td>\n",
       "      <td>9</td>\n",
       "      <td>2018-11-19</td>\n",
       "      <td>0.10</td>\n",
       "      <td>1</td>\n",
       "      <td>0</td>\n",
       "    </tr>\n",
       "  </tbody>\n",
       "</table>\n",
       "</div>"
      ],
      "text/plain": [
       "     id                                              name  host_id  \\\n",
       "0  2539                Clean & quiet apt home by the park     2787   \n",
       "1  2595                             Skylit Midtown Castle     2845   \n",
       "2  3647               THE VILLAGE OF HARLEM....NEW YORK !     4632   \n",
       "3  3831                   Cozy Entire Floor of Brownstone     4869   \n",
       "4  5022  Entire Apt: Spacious Studio/Loft by central park     7192   \n",
       "\n",
       "     host_name neighbourhood_group neighbourhood  latitude  longitude  \\\n",
       "0         John            Brooklyn    Kensington  40.64749  -73.97237   \n",
       "1     Jennifer           Manhattan       Midtown  40.75362  -73.98377   \n",
       "2    Elisabeth           Manhattan        Harlem  40.80902  -73.94190   \n",
       "3  LisaRoxanne            Brooklyn  Clinton Hill  40.68514  -73.95976   \n",
       "4        Laura           Manhattan   East Harlem  40.79851  -73.94399   \n",
       "\n",
       "         room_type  price  minimum_nights  number_of_reviews last_review  \\\n",
       "0     Private room    149               1                  9  2018-10-19   \n",
       "1  Entire home/apt    225               1                 45  2019-05-21   \n",
       "2     Private room    150               3                  0         NaN   \n",
       "3  Entire home/apt     89               1                270  2019-07-05   \n",
       "4  Entire home/apt     80              10                  9  2018-11-19   \n",
       "\n",
       "   reviews_per_month  calculated_host_listings_count  availability_365  \n",
       "0               0.21                               6               365  \n",
       "1               0.38                               2               355  \n",
       "2                NaN                               1               365  \n",
       "3               4.64                               1               194  \n",
       "4               0.10                               1                 0  "
      ]
     },
     "execution_count": 4,
     "metadata": {},
     "output_type": "execute_result"
    }
   ],
   "source": [
    "dataset = pd.read_csv(\"C:/Users/athar/Downloads/archive (2)/AB_NYC_2019.csv\")\n",
    "dataset.head()"
   ]
  },
  {
   "cell_type": "code",
   "execution_count": 5,
   "id": "4d61f3c7",
   "metadata": {},
   "outputs": [
    {
     "data": {
      "text/plain": [
       "id                                  int64\n",
       "name                               object\n",
       "host_id                             int64\n",
       "host_name                          object\n",
       "neighbourhood_group                object\n",
       "neighbourhood                      object\n",
       "latitude                          float64\n",
       "longitude                         float64\n",
       "room_type                          object\n",
       "price                               int64\n",
       "minimum_nights                      int64\n",
       "number_of_reviews                   int64\n",
       "last_review                        object\n",
       "reviews_per_month                 float64\n",
       "calculated_host_listings_count      int64\n",
       "availability_365                    int64\n",
       "dtype: object"
      ]
     },
     "execution_count": 5,
     "metadata": {},
     "output_type": "execute_result"
    }
   ],
   "source": [
    "### Check data types of all columns\n",
    "dataset.dtypes"
   ]
  },
  {
   "cell_type": "code",
   "execution_count": 6,
   "id": "8a107889",
   "metadata": {},
   "outputs": [
    {
     "data": {
      "text/plain": [
       "id                                    0\n",
       "name                                 16\n",
       "host_id                               0\n",
       "host_name                            21\n",
       "neighbourhood_group                   0\n",
       "neighbourhood                         0\n",
       "latitude                              0\n",
       "longitude                             0\n",
       "room_type                             0\n",
       "price                                 0\n",
       "minimum_nights                        0\n",
       "number_of_reviews                     0\n",
       "last_review                       10052\n",
       "reviews_per_month                 10052\n",
       "calculated_host_listings_count        0\n",
       "availability_365                      0\n",
       "dtype: int64"
      ]
     },
     "execution_count": 6,
     "metadata": {},
     "output_type": "execute_result"
    }
   ],
   "source": [
    "dataset.isnull().sum()"
   ]
  },
  {
   "cell_type": "code",
   "execution_count": 7,
   "id": "5a49e12c",
   "metadata": {},
   "outputs": [],
   "source": [
    "dataset.fillna({'reviews_per_month':0}, inplace=True)\n",
    "dataset.fillna({'name':\"NoName\"}, inplace=True)\n",
    "dataset.fillna({'host_name':\"NoName\"}, inplace=True)\n",
    "dataset.fillna({'last_review':\"NotReviewed\"}, inplace=True)"
   ]
  },
  {
   "cell_type": "code",
   "execution_count": 8,
   "id": "7cec0915",
   "metadata": {},
   "outputs": [
    {
     "data": {
      "text/plain": [
       "id                                0\n",
       "name                              0\n",
       "host_id                           0\n",
       "host_name                         0\n",
       "neighbourhood_group               0\n",
       "neighbourhood                     0\n",
       "latitude                          0\n",
       "longitude                         0\n",
       "room_type                         0\n",
       "price                             0\n",
       "minimum_nights                    0\n",
       "number_of_reviews                 0\n",
       "last_review                       0\n",
       "reviews_per_month                 0\n",
       "calculated_host_listings_count    0\n",
       "availability_365                  0\n",
       "dtype: int64"
      ]
     },
     "execution_count": 8,
     "metadata": {},
     "output_type": "execute_result"
    }
   ],
   "source": [
    "dataset.isnull().sum()"
   ]
  },
  {
   "cell_type": "code",
   "execution_count": 9,
   "id": "978ee16b",
   "metadata": {},
   "outputs": [
    {
     "data": {
      "text/plain": [
       "count    48895.000000\n",
       "mean       152.720687\n",
       "std        240.154170\n",
       "min          0.000000\n",
       "25%         69.000000\n",
       "50%        106.000000\n",
       "75%        175.000000\n",
       "max      10000.000000\n",
       "Name: price, dtype: float64"
      ]
     },
     "execution_count": 9,
     "metadata": {},
     "output_type": "execute_result"
    }
   ],
   "source": [
    "dataset[\"price\"].describe()"
   ]
  },
  {
   "cell_type": "code",
   "execution_count": 10,
   "id": "15429ba2",
   "metadata": {},
   "outputs": [
    {
     "data": {
      "image/png": "[encoded data removed]",
      "text/plain": [
       "<Figure size 432x288 with 1 Axes>"
      ]
     },
     "metadata": {},
     "output_type": "display_data"
    }
   ],
   "source": [
    "### See the distribution of price\n",
    "hist_price=dataset[\"price\"].hist()\n",
    "### We observe that most listings have price less than $1000"
   ]
  },
  {
   "cell_type": "code",
   "execution_count": 11,
   "id": "4bd5b2a0",
   "metadata": {},
   "outputs": [
    {
     "data": {
      "image/png": "[encoded data removed]",
      "text/plain": [
       "<Figure size 432x288 with 1 Axes>"
      ]
     },
     "metadata": {},
     "output_type": "display_data"
    }
   ],
   "source": [
    "### Lets plot histogram for prices less than $2000\n",
    "hist_price1=dataset[\"price\"][dataset[\"price\"]<1000].hist()\n",
    "### This give a clearer picture!"
   ]
  },
  {
   "cell_type": "code",
   "execution_count": 12,
   "id": "88b55e44",
   "metadata": {},
   "outputs": [
    {
     "data": {
      "text/html": [
       "<div>\n",
       "<style scoped>\n",
       "    .dataframe tbody tr th:only-of-type {\n",
       "        vertical-align: middle;\n",
       "    }\n",
       "\n",
       "    .dataframe tbody tr th {\n",
       "        vertical-align: top;\n",
       "    }\n",
       "\n",
       "    .dataframe thead th {\n",
       "        text-align: right;\n",
       "    }\n",
       "</style>\n",
       "<table border=\"1\" class=\"dataframe\">\n",
       "  <thead>\n",
       "    <tr style=\"text-align: right;\">\n",
       "      <th></th>\n",
       "      <th>id</th>\n",
       "      <th>name</th>\n",
       "      <th>host_id</th>\n",
       "      <th>host_name</th>\n",
       "      <th>neighbourhood_group</th>\n",
       "      <th>neighbourhood</th>\n",
       "      <th>latitude</th>\n",
       "      <th>longitude</th>\n",
       "      <th>room_type</th>\n",
       "      <th>price</th>\n",
       "      <th>minimum_nights</th>\n",
       "      <th>number_of_reviews</th>\n",
       "      <th>last_review</th>\n",
       "      <th>reviews_per_month</th>\n",
       "      <th>calculated_host_listings_count</th>\n",
       "      <th>availability_365</th>\n",
       "    </tr>\n",
       "  </thead>\n",
       "  <tbody>\n",
       "    <tr>\n",
       "      <th>496</th>\n",
       "      <td>174966</td>\n",
       "      <td>Luxury 2Bed/2.5Bath Central Park View</td>\n",
       "      <td>836168</td>\n",
       "      <td>Henry</td>\n",
       "      <td>Manhattan</td>\n",
       "      <td>Upper West Side</td>\n",
       "      <td>40.77350</td>\n",
       "      <td>-73.98697</td>\n",
       "      <td>Entire home/apt</td>\n",
       "      <td>2000</td>\n",
       "      <td>30</td>\n",
       "      <td>30</td>\n",
       "      <td>2018-05-05</td>\n",
       "      <td>0.33</td>\n",
       "      <td>11</td>\n",
       "      <td>0</td>\n",
       "    </tr>\n",
       "    <tr>\n",
       "      <th>762</th>\n",
       "      <td>273190</td>\n",
       "      <td>6 Bedroom Landmark West Village Townhouse</td>\n",
       "      <td>605463</td>\n",
       "      <td>West Village</td>\n",
       "      <td>Manhattan</td>\n",
       "      <td>West Village</td>\n",
       "      <td>40.73301</td>\n",
       "      <td>-74.00268</td>\n",
       "      <td>Entire home/apt</td>\n",
       "      <td>1300</td>\n",
       "      <td>5</td>\n",
       "      <td>28</td>\n",
       "      <td>2018-09-25</td>\n",
       "      <td>0.31</td>\n",
       "      <td>4</td>\n",
       "      <td>297</td>\n",
       "    </tr>\n",
       "    <tr>\n",
       "      <th>946</th>\n",
       "      <td>363673</td>\n",
       "      <td>Beautiful 3 bedroom in Manhattan</td>\n",
       "      <td>256239</td>\n",
       "      <td>Tracey</td>\n",
       "      <td>Manhattan</td>\n",
       "      <td>Upper West Side</td>\n",
       "      <td>40.80142</td>\n",
       "      <td>-73.96931</td>\n",
       "      <td>Private room</td>\n",
       "      <td>3000</td>\n",
       "      <td>7</td>\n",
       "      <td>0</td>\n",
       "      <td>NotReviewed</td>\n",
       "      <td>0.00</td>\n",
       "      <td>1</td>\n",
       "      <td>365</td>\n",
       "    </tr>\n",
       "    <tr>\n",
       "      <th>1105</th>\n",
       "      <td>468613</td>\n",
       "      <td>$ (Phone number hidden by Airbnb) weeks - room f</td>\n",
       "      <td>2325861</td>\n",
       "      <td>Cynthia</td>\n",
       "      <td>Manhattan</td>\n",
       "      <td>Lower East Side</td>\n",
       "      <td>40.72152</td>\n",
       "      <td>-73.99279</td>\n",
       "      <td>Private room</td>\n",
       "      <td>1300</td>\n",
       "      <td>1</td>\n",
       "      <td>0</td>\n",
       "      <td>NotReviewed</td>\n",
       "      <td>0.00</td>\n",
       "      <td>1</td>\n",
       "      <td>0</td>\n",
       "    </tr>\n",
       "    <tr>\n",
       "      <th>1480</th>\n",
       "      <td>664047</td>\n",
       "      <td>Lux 2Bed/2.5Bath Central Park Views</td>\n",
       "      <td>836168</td>\n",
       "      <td>Henry</td>\n",
       "      <td>Manhattan</td>\n",
       "      <td>Upper West Side</td>\n",
       "      <td>40.77516</td>\n",
       "      <td>-73.98573</td>\n",
       "      <td>Entire home/apt</td>\n",
       "      <td>2000</td>\n",
       "      <td>30</td>\n",
       "      <td>59</td>\n",
       "      <td>2016-01-28</td>\n",
       "      <td>0.71</td>\n",
       "      <td>11</td>\n",
       "      <td>364</td>\n",
       "    </tr>\n",
       "    <tr>\n",
       "      <th>...</th>\n",
       "      <td>...</td>\n",
       "      <td>...</td>\n",
       "      <td>...</td>\n",
       "      <td>...</td>\n",
       "      <td>...</td>\n",
       "      <td>...</td>\n",
       "      <td>...</td>\n",
       "      <td>...</td>\n",
       "      <td>...</td>\n",
       "      <td>...</td>\n",
       "      <td>...</td>\n",
       "      <td>...</td>\n",
       "      <td>...</td>\n",
       "      <td>...</td>\n",
       "      <td>...</td>\n",
       "      <td>...</td>\n",
       "    </tr>\n",
       "    <tr>\n",
       "      <th>48080</th>\n",
       "      <td>36074198</td>\n",
       "      <td>Luxury apartment 2 min to times square</td>\n",
       "      <td>203565865</td>\n",
       "      <td>Vinícius</td>\n",
       "      <td>Manhattan</td>\n",
       "      <td>SoHo</td>\n",
       "      <td>40.72060</td>\n",
       "      <td>-74.00023</td>\n",
       "      <td>Entire home/apt</td>\n",
       "      <td>1308</td>\n",
       "      <td>2</td>\n",
       "      <td>0</td>\n",
       "      <td>NotReviewed</td>\n",
       "      <td>0.00</td>\n",
       "      <td>1</td>\n",
       "      <td>179</td>\n",
       "    </tr>\n",
       "    <tr>\n",
       "      <th>48304</th>\n",
       "      <td>36189195</td>\n",
       "      <td>Next to Times Square/Javits/MSG! Amazing 1BR!</td>\n",
       "      <td>270214015</td>\n",
       "      <td>Rogelio</td>\n",
       "      <td>Manhattan</td>\n",
       "      <td>Hell's Kitchen</td>\n",
       "      <td>40.75533</td>\n",
       "      <td>-73.99866</td>\n",
       "      <td>Entire home/apt</td>\n",
       "      <td>2999</td>\n",
       "      <td>30</td>\n",
       "      <td>0</td>\n",
       "      <td>NotReviewed</td>\n",
       "      <td>0.00</td>\n",
       "      <td>1</td>\n",
       "      <td>222</td>\n",
       "    </tr>\n",
       "    <tr>\n",
       "      <th>48305</th>\n",
       "      <td>36189257</td>\n",
       "      <td>2BR Near Museum Mile! Upper East Side!</td>\n",
       "      <td>272166348</td>\n",
       "      <td>Mary Rotsen</td>\n",
       "      <td>Manhattan</td>\n",
       "      <td>Upper East Side</td>\n",
       "      <td>40.78132</td>\n",
       "      <td>-73.95262</td>\n",
       "      <td>Entire home/apt</td>\n",
       "      <td>1999</td>\n",
       "      <td>30</td>\n",
       "      <td>0</td>\n",
       "      <td>NotReviewed</td>\n",
       "      <td>0.00</td>\n",
       "      <td>1</td>\n",
       "      <td>270</td>\n",
       "    </tr>\n",
       "    <tr>\n",
       "      <th>48523</th>\n",
       "      <td>36308562</td>\n",
       "      <td>Tasteful &amp; Trendy Brooklyn Brownstone, near Train</td>\n",
       "      <td>217732163</td>\n",
       "      <td>Sandy</td>\n",
       "      <td>Brooklyn</td>\n",
       "      <td>Bedford-Stuyvesant</td>\n",
       "      <td>40.68767</td>\n",
       "      <td>-73.95805</td>\n",
       "      <td>Entire home/apt</td>\n",
       "      <td>1369</td>\n",
       "      <td>1</td>\n",
       "      <td>0</td>\n",
       "      <td>NotReviewed</td>\n",
       "      <td>0.00</td>\n",
       "      <td>1</td>\n",
       "      <td>349</td>\n",
       "    </tr>\n",
       "    <tr>\n",
       "      <th>48535</th>\n",
       "      <td>36311055</td>\n",
       "      <td>Stunning &amp; Stylish Brooklyn Luxury, near Train</td>\n",
       "      <td>245712163</td>\n",
       "      <td>Urvashi</td>\n",
       "      <td>Brooklyn</td>\n",
       "      <td>Bedford-Stuyvesant</td>\n",
       "      <td>40.68245</td>\n",
       "      <td>-73.93417</td>\n",
       "      <td>Entire home/apt</td>\n",
       "      <td>1749</td>\n",
       "      <td>1</td>\n",
       "      <td>0</td>\n",
       "      <td>NotReviewed</td>\n",
       "      <td>0.00</td>\n",
       "      <td>1</td>\n",
       "      <td>303</td>\n",
       "    </tr>\n",
       "  </tbody>\n",
       "</table>\n",
       "<p>239 rows × 16 columns</p>\n",
       "</div>"
      ],
      "text/plain": [
       "             id                                               name    host_id  \\\n",
       "496      174966              Luxury 2Bed/2.5Bath Central Park View     836168   \n",
       "762      273190          6 Bedroom Landmark West Village Townhouse     605463   \n",
       "946      363673                   Beautiful 3 bedroom in Manhattan     256239   \n",
       "1105     468613   $ (Phone number hidden by Airbnb) weeks - room f    2325861   \n",
       "1480     664047                Lux 2Bed/2.5Bath Central Park Views     836168   \n",
       "...         ...                                                ...        ...   \n",
       "48080  36074198             Luxury apartment 2 min to times square  203565865   \n",
       "48304  36189195      Next to Times Square/Javits/MSG! Amazing 1BR!  270214015   \n",
       "48305  36189257             2BR Near Museum Mile! Upper East Side!  272166348   \n",
       "48523  36308562  Tasteful & Trendy Brooklyn Brownstone, near Train  217732163   \n",
       "48535  36311055     Stunning & Stylish Brooklyn Luxury, near Train  245712163   \n",
       "\n",
       "          host_name neighbourhood_group       neighbourhood  latitude  \\\n",
       "496           Henry           Manhattan     Upper West Side  40.77350   \n",
       "762    West Village           Manhattan        West Village  40.73301   \n",
       "946          Tracey           Manhattan     Upper West Side  40.80142   \n",
       "1105        Cynthia           Manhattan     Lower East Side  40.72152   \n",
       "1480          Henry           Manhattan     Upper West Side  40.77516   \n",
       "...             ...                 ...                 ...       ...   \n",
       "48080      Vinícius           Manhattan                SoHo  40.72060   \n",
       "48304       Rogelio           Manhattan      Hell's Kitchen  40.75533   \n",
       "48305   Mary Rotsen           Manhattan     Upper East Side  40.78132   \n",
       "48523         Sandy            Brooklyn  Bedford-Stuyvesant  40.68767   \n",
       "48535       Urvashi            Brooklyn  Bedford-Stuyvesant  40.68245   \n",
       "\n",
       "       longitude        room_type  price  minimum_nights  number_of_reviews  \\\n",
       "496    -73.98697  Entire home/apt   2000              30                 30   \n",
       "762    -74.00268  Entire home/apt   1300               5                 28   \n",
       "946    -73.96931     Private room   3000               7                  0   \n",
       "1105   -73.99279     Private room   1300               1                  0   \n",
       "1480   -73.98573  Entire home/apt   2000              30                 59   \n",
       "...          ...              ...    ...             ...                ...   \n",
       "48080  -74.00023  Entire home/apt   1308               2                  0   \n",
       "48304  -73.99866  Entire home/apt   2999              30                  0   \n",
       "48305  -73.95262  Entire home/apt   1999              30                  0   \n",
       "48523  -73.95805  Entire home/apt   1369               1                  0   \n",
       "48535  -73.93417  Entire home/apt   1749               1                  0   \n",
       "\n",
       "       last_review  reviews_per_month  calculated_host_listings_count  \\\n",
       "496     2018-05-05               0.33                              11   \n",
       "762     2018-09-25               0.31                               4   \n",
       "946    NotReviewed               0.00                               1   \n",
       "1105   NotReviewed               0.00                               1   \n",
       "1480    2016-01-28               0.71                              11   \n",
       "...            ...                ...                             ...   \n",
       "48080  NotReviewed               0.00                               1   \n",
       "48304  NotReviewed               0.00                               1   \n",
       "48305  NotReviewed               0.00                               1   \n",
       "48523  NotReviewed               0.00                               1   \n",
       "48535  NotReviewed               0.00                               1   \n",
       "\n",
       "       availability_365  \n",
       "496                   0  \n",
       "762                 297  \n",
       "946                 365  \n",
       "1105                  0  \n",
       "1480                364  \n",
       "...                 ...  \n",
       "48080               179  \n",
       "48304               222  \n",
       "48305               270  \n",
       "48523               349  \n",
       "48535               303  \n",
       "\n",
       "[239 rows x 16 columns]"
      ]
     },
     "execution_count": 12,
     "metadata": {},
     "output_type": "execute_result"
    }
   ],
   "source": [
    "dataset[dataset[\"price\"]>1000]"
   ]
  },
  {
   "cell_type": "code",
   "execution_count": 13,
   "id": "b11a5672",
   "metadata": {},
   "outputs": [],
   "source": [
    "dataset=dataset[dataset[\"price\"]<1000]"
   ]
  },
  {
   "cell_type": "code",
   "execution_count": 14,
   "id": "6bebca6a",
   "metadata": {},
   "outputs": [
    {
     "data": {
      "image/png": "[encoded data removed]",
      "text/plain": [
       "<Figure size 432x288 with 1 Axes>"
      ]
     },
     "metadata": {},
     "output_type": "display_data"
    }
   ],
   "source": [
    "### We see a more Gaussian distribution here\n",
    "hist_price2=dataset[\"price\"][dataset[\"price\"]<250].hist()"
   ]
  },
  {
   "cell_type": "code",
   "execution_count": 15,
   "id": "eadc3b79",
   "metadata": {},
   "outputs": [],
   "source": [
    "### We use 250 as threshold price \n",
    "dataset=dataset[dataset[\"price\"]<250]"
   ]
  },
  {
   "cell_type": "code",
   "execution_count": 16,
   "id": "338196f2",
   "metadata": {},
   "outputs": [
    {
     "data": {
      "text/plain": [
       "count    42669.000000\n",
       "mean       107.897748\n",
       "std         53.803457\n",
       "min          0.000000\n",
       "25%         65.000000\n",
       "50%         99.000000\n",
       "75%        150.000000\n",
       "max        249.000000\n",
       "Name: price, dtype: float64"
      ]
     },
     "execution_count": 16,
     "metadata": {},
     "output_type": "execute_result"
    }
   ],
   "source": [
    "### Looking at the price column again\n",
    "dataset[\"price\"].describe()"
   ]
  },
  {
   "cell_type": "code",
   "execution_count": 17,
   "id": "7cfcc8eb",
   "metadata": {},
   "outputs": [
    {
     "data": {
      "text/plain": [
       "Bedford-Stuyvesant    3560\n",
       "Williamsburg          3451\n",
       "Harlem                2487\n",
       "Bushwick              2404\n",
       "Upper West Side       1570\n",
       "                      ... \n",
       "New Dorp                 1\n",
       "Neponsit                 1\n",
       "Rossville                1\n",
       "Richmondtown             1\n",
       "Willowbrook              1\n",
       "Name: neighbourhood, Length: 219, dtype: int64"
      ]
     },
     "execution_count": 17,
     "metadata": {},
     "output_type": "execute_result"
    }
   ],
   "source": [
    "###There are 221 unique neighbourhoods in NYC as per this data set. Most listings are in Williamsburg\n",
    "dataset['neighbourhood'].value_counts()"
   ]
  },
  {
   "cell_type": "code",
   "execution_count": 18,
   "id": "4e4eefad",
   "metadata": {},
   "outputs": [],
   "source": [
    "### Count how many neighbourhoods appear more than 200\n",
    "dfnh =dataset.groupby(\"neighbourhood\").filter(lambda x: x['neighbourhood'].count() > 200)"
   ]
  },
  {
   "cell_type": "code",
   "execution_count": 19,
   "id": "fd2f16e6",
   "metadata": {},
   "outputs": [
    {
     "data": {
      "text/plain": [
       "36106"
      ]
     },
     "execution_count": 19,
     "metadata": {},
     "output_type": "execute_result"
    }
   ],
   "source": [
    "### Most data is covered. \n",
    "len(dfnh[\"neighbourhood\"])"
   ]
  },
  {
   "cell_type": "code",
   "execution_count": 20,
   "id": "c1879a7c",
   "metadata": {},
   "outputs": [
    {
     "data": {
      "text/plain": [
       "5"
      ]
     },
     "execution_count": 20,
     "metadata": {},
     "output_type": "execute_result"
    }
   ],
   "source": [
    "### Count how many neighbourhoods appear only once\n",
    "dfnh =dataset.groupby(\"neighbourhood\").filter(lambda x: x['neighbourhood'].count() == 1)\n",
    "len(dfnh[\"neighbourhood\"])"
   ]
  },
  {
   "cell_type": "code",
   "execution_count": 21,
   "id": "21247ed2",
   "metadata": {},
   "outputs": [
    {
     "data": {
      "text/plain": [
       "Brooklyn         18581\n",
       "Manhattan        17270\n",
       "Queens            5413\n",
       "Bronx             1052\n",
       "Staten Island      353\n",
       "Name: neighbourhood_group, dtype: int64"
      ]
     },
     "execution_count": 21,
     "metadata": {},
     "output_type": "execute_result"
    }
   ],
   "source": [
    "###Lets look at neighbourhood groups\n",
    "dataset['neighbourhood_group'].value_counts()"
   ]
  },
  {
   "cell_type": "code",
   "execution_count": 22,
   "id": "6fe4ebe5",
   "metadata": {},
   "outputs": [],
   "source": [
    "### Lets see the average listing price by neighbourhood group\n",
    "ng_price=dataset.groupby(\"neighbourhood_group\")[\"price\"].mean()"
   ]
  },
  {
   "cell_type": "code",
   "execution_count": 23,
   "id": "f378e996",
   "metadata": {},
   "outputs": [
    {
     "data": {
      "text/plain": [
       "neighbourhood_group\n",
       "Bronx             73.796578\n",
       "Brooklyn          98.068134\n",
       "Manhattan        128.670990\n",
       "Queens            83.639941\n",
       "Staten Island     82.606232\n",
       "Name: price, dtype: float64"
      ]
     },
     "execution_count": 23,
     "metadata": {},
     "output_type": "execute_result"
    }
   ],
   "source": [
    "### Manhattan is most expensive and Bronx is the least expensive place to live\n",
    "ng_price"
   ]
  },
  {
   "cell_type": "code",
   "execution_count": 24,
   "id": "3bed81fe",
   "metadata": {},
   "outputs": [
    {
     "data": {
      "text/plain": [
       "<seaborn.axisgrid.FacetGrid at 0x1d2710fecd0>"
      ]
     },
     "execution_count": 24,
     "metadata": {},
     "output_type": "execute_result"
    },
    {
     "data": {
      "image/png": "[encoded data removed]",
      "text/plain": [
       "<Figure size 1296x432 with 1 Axes>"
      ]
     },
     "metadata": {},
     "output_type": "display_data"
    }
   ],
   "source": [
    "sns.catplot(y = 'price',x = 'neighbourhood_group',data = dataset.sort_values('price',ascending = False),\n",
    "            kind = 'boxen',height = 6, aspect = 3)"
   ]
  },
  {
   "cell_type": "code",
   "execution_count": 25,
   "id": "1a3acb47",
   "metadata": {},
   "outputs": [
    {
     "data": {
      "text/plain": [
       "238"
      ]
     },
     "execution_count": 25,
     "metadata": {},
     "output_type": "execute_result"
    }
   ],
   "source": [
    "### Checking if there are duplicate host_ids and whats is the maximum number of listings per host_id\n",
    "df = dataset.groupby([\"host_id\"])\n",
    "max(df.size())"
   ]
  },
  {
   "cell_type": "code",
   "execution_count": 26,
   "id": "3b89427a",
   "metadata": {},
   "outputs": [
    {
     "data": {
      "text/plain": [
       "1    28391\n",
       "2     2993\n",
       "3      844\n",
       "4      302\n",
       "5      151\n",
       "dtype: int64"
      ]
     },
     "execution_count": 26,
     "metadata": {},
     "output_type": "execute_result"
    }
   ],
   "source": [
    "## Here we can see that 32K host_ids are unique appearing only once whereas some host_ids appear as much as 238 times\n",
    "df.size().value_counts().head()"
   ]
  },
  {
   "cell_type": "code",
   "execution_count": 27,
   "id": "2c1821fc",
   "metadata": {},
   "outputs": [
    {
     "data": {
      "text/plain": [
       "43    1\n",
       "34    1\n",
       "19    1\n",
       "16    1\n",
       "25    1\n",
       "dtype: int64"
      ]
     },
     "execution_count": 27,
     "metadata": {},
     "output_type": "execute_result"
    }
   ],
   "source": [
    "df.size().value_counts().tail()"
   ]
  },
  {
   "cell_type": "code",
   "execution_count": 28,
   "id": "b7d96c09",
   "metadata": {},
   "outputs": [
    {
     "data": {
      "text/plain": [
       "219517861"
      ]
     },
     "execution_count": 28,
     "metadata": {},
     "output_type": "execute_result"
    }
   ],
   "source": [
    "### Finding the host_id with maximum listings\n",
    "host_id_counts = dataset[\"host_id\"].value_counts()\n",
    "max_host = host_id_counts.idxmax()\n",
    "max_host"
   ]
  },
  {
   "cell_type": "code",
   "execution_count": 29,
   "id": "e1a10fd5",
   "metadata": {},
   "outputs": [
    {
     "data": {
      "text/html": [
       "<div>\n",
       "<style scoped>\n",
       "    .dataframe tbody tr th:only-of-type {\n",
       "        vertical-align: middle;\n",
       "    }\n",
       "\n",
       "    .dataframe tbody tr th {\n",
       "        vertical-align: top;\n",
       "    }\n",
       "\n",
       "    .dataframe thead th {\n",
       "        text-align: right;\n",
       "    }\n",
       "</style>\n",
       "<table border=\"1\" class=\"dataframe\">\n",
       "  <thead>\n",
       "    <tr style=\"text-align: right;\">\n",
       "      <th></th>\n",
       "      <th>id</th>\n",
       "      <th>name</th>\n",
       "      <th>host_id</th>\n",
       "      <th>host_name</th>\n",
       "      <th>neighbourhood_group</th>\n",
       "      <th>neighbourhood</th>\n",
       "      <th>latitude</th>\n",
       "      <th>longitude</th>\n",
       "      <th>room_type</th>\n",
       "      <th>price</th>\n",
       "      <th>minimum_nights</th>\n",
       "      <th>number_of_reviews</th>\n",
       "      <th>last_review</th>\n",
       "      <th>reviews_per_month</th>\n",
       "      <th>calculated_host_listings_count</th>\n",
       "      <th>availability_365</th>\n",
       "    </tr>\n",
       "  </thead>\n",
       "  <tbody>\n",
       "    <tr>\n",
       "      <th>38294</th>\n",
       "      <td>30181945</td>\n",
       "      <td>Sonder | 180 Water | Premier 1BR + Rooftop</td>\n",
       "      <td>219517861</td>\n",
       "      <td>Sonder (NYC)</td>\n",
       "      <td>Manhattan</td>\n",
       "      <td>Financial District</td>\n",
       "      <td>40.70771</td>\n",
       "      <td>-74.00641</td>\n",
       "      <td>Entire home/apt</td>\n",
       "      <td>229</td>\n",
       "      <td>29</td>\n",
       "      <td>1</td>\n",
       "      <td>2019-05-29</td>\n",
       "      <td>0.73</td>\n",
       "      <td>327</td>\n",
       "      <td>219</td>\n",
       "    </tr>\n",
       "    <tr>\n",
       "      <th>38588</th>\n",
       "      <td>30347708</td>\n",
       "      <td>Sonder | 180 Water | Charming 1BR + Rooftop</td>\n",
       "      <td>219517861</td>\n",
       "      <td>Sonder (NYC)</td>\n",
       "      <td>Manhattan</td>\n",
       "      <td>Financial District</td>\n",
       "      <td>40.70743</td>\n",
       "      <td>-74.00443</td>\n",
       "      <td>Entire home/apt</td>\n",
       "      <td>232</td>\n",
       "      <td>29</td>\n",
       "      <td>1</td>\n",
       "      <td>2019-05-21</td>\n",
       "      <td>0.60</td>\n",
       "      <td>327</td>\n",
       "      <td>159</td>\n",
       "    </tr>\n",
       "    <tr>\n",
       "      <th>39771</th>\n",
       "      <td>30937594</td>\n",
       "      <td>Sonder | The Nash | Brilliant Studio + Rooftop</td>\n",
       "      <td>219517861</td>\n",
       "      <td>Sonder (NYC)</td>\n",
       "      <td>Manhattan</td>\n",
       "      <td>Murray Hill</td>\n",
       "      <td>40.74845</td>\n",
       "      <td>-73.97446</td>\n",
       "      <td>Entire home/apt</td>\n",
       "      <td>245</td>\n",
       "      <td>2</td>\n",
       "      <td>4</td>\n",
       "      <td>2019-06-08</td>\n",
       "      <td>0.94</td>\n",
       "      <td>327</td>\n",
       "      <td>137</td>\n",
       "    </tr>\n",
       "    <tr>\n",
       "      <th>39772</th>\n",
       "      <td>30937595</td>\n",
       "      <td>Sonder | 11th Ave | Bright 1BR + Gym</td>\n",
       "      <td>219517861</td>\n",
       "      <td>Sonder (NYC)</td>\n",
       "      <td>Manhattan</td>\n",
       "      <td>Hell's Kitchen</td>\n",
       "      <td>40.76188</td>\n",
       "      <td>-73.99616</td>\n",
       "      <td>Entire home/apt</td>\n",
       "      <td>185</td>\n",
       "      <td>29</td>\n",
       "      <td>1</td>\n",
       "      <td>2019-06-20</td>\n",
       "      <td>1.00</td>\n",
       "      <td>327</td>\n",
       "      <td>281</td>\n",
       "    </tr>\n",
       "    <tr>\n",
       "      <th>39773</th>\n",
       "      <td>30937596</td>\n",
       "      <td>Sonder | 11th Ave | Contemporary 1BR + Gym</td>\n",
       "      <td>219517861</td>\n",
       "      <td>Sonder (NYC)</td>\n",
       "      <td>Manhattan</td>\n",
       "      <td>Hell's Kitchen</td>\n",
       "      <td>40.76037</td>\n",
       "      <td>-73.99744</td>\n",
       "      <td>Entire home/apt</td>\n",
       "      <td>185</td>\n",
       "      <td>29</td>\n",
       "      <td>1</td>\n",
       "      <td>2019-06-10</td>\n",
       "      <td>1.00</td>\n",
       "      <td>327</td>\n",
       "      <td>332</td>\n",
       "    </tr>\n",
       "    <tr>\n",
       "      <th>...</th>\n",
       "      <td>...</td>\n",
       "      <td>...</td>\n",
       "      <td>...</td>\n",
       "      <td>...</td>\n",
       "      <td>...</td>\n",
       "      <td>...</td>\n",
       "      <td>...</td>\n",
       "      <td>...</td>\n",
       "      <td>...</td>\n",
       "      <td>...</td>\n",
       "      <td>...</td>\n",
       "      <td>...</td>\n",
       "      <td>...</td>\n",
       "      <td>...</td>\n",
       "      <td>...</td>\n",
       "      <td>...</td>\n",
       "    </tr>\n",
       "    <tr>\n",
       "      <th>47686</th>\n",
       "      <td>35869234</td>\n",
       "      <td>Sonder | 116 John | Classic 1BR + Gym</td>\n",
       "      <td>219517861</td>\n",
       "      <td>Sonder (NYC)</td>\n",
       "      <td>Manhattan</td>\n",
       "      <td>Financial District</td>\n",
       "      <td>40.70852</td>\n",
       "      <td>-74.00510</td>\n",
       "      <td>Entire home/apt</td>\n",
       "      <td>198</td>\n",
       "      <td>29</td>\n",
       "      <td>0</td>\n",
       "      <td>NotReviewed</td>\n",
       "      <td>0.00</td>\n",
       "      <td>327</td>\n",
       "      <td>345</td>\n",
       "    </tr>\n",
       "    <tr>\n",
       "      <th>47687</th>\n",
       "      <td>35869466</td>\n",
       "      <td>Sonder | 116 John | Classic Studio + Gym</td>\n",
       "      <td>219517861</td>\n",
       "      <td>Sonder (NYC)</td>\n",
       "      <td>Manhattan</td>\n",
       "      <td>Financial District</td>\n",
       "      <td>40.70802</td>\n",
       "      <td>-74.00642</td>\n",
       "      <td>Entire home/apt</td>\n",
       "      <td>180</td>\n",
       "      <td>29</td>\n",
       "      <td>0</td>\n",
       "      <td>NotReviewed</td>\n",
       "      <td>0.00</td>\n",
       "      <td>327</td>\n",
       "      <td>338</td>\n",
       "    </tr>\n",
       "    <tr>\n",
       "      <th>47691</th>\n",
       "      <td>35871510</td>\n",
       "      <td>Sonder | 116 John | Vibrant Studio + Fitness Room</td>\n",
       "      <td>219517861</td>\n",
       "      <td>Sonder (NYC)</td>\n",
       "      <td>Manhattan</td>\n",
       "      <td>Financial District</td>\n",
       "      <td>40.70818</td>\n",
       "      <td>-74.00631</td>\n",
       "      <td>Entire home/apt</td>\n",
       "      <td>135</td>\n",
       "      <td>29</td>\n",
       "      <td>0</td>\n",
       "      <td>NotReviewed</td>\n",
       "      <td>0.00</td>\n",
       "      <td>327</td>\n",
       "      <td>339</td>\n",
       "    </tr>\n",
       "    <tr>\n",
       "      <th>47692</th>\n",
       "      <td>35871511</td>\n",
       "      <td>Sonder | 116 John | Vibrant 1BR + Fitness Room</td>\n",
       "      <td>219517861</td>\n",
       "      <td>Sonder (NYC)</td>\n",
       "      <td>Manhattan</td>\n",
       "      <td>Financial District</td>\n",
       "      <td>40.70691</td>\n",
       "      <td>-74.00682</td>\n",
       "      <td>Entire home/apt</td>\n",
       "      <td>165</td>\n",
       "      <td>29</td>\n",
       "      <td>0</td>\n",
       "      <td>NotReviewed</td>\n",
       "      <td>0.00</td>\n",
       "      <td>327</td>\n",
       "      <td>342</td>\n",
       "    </tr>\n",
       "    <tr>\n",
       "      <th>47693</th>\n",
       "      <td>35871515</td>\n",
       "      <td>Sonder | 116 John | Stunning 1BR + Rooftop</td>\n",
       "      <td>219517861</td>\n",
       "      <td>Sonder (NYC)</td>\n",
       "      <td>Manhattan</td>\n",
       "      <td>Financial District</td>\n",
       "      <td>40.70772</td>\n",
       "      <td>-74.00673</td>\n",
       "      <td>Entire home/apt</td>\n",
       "      <td>165</td>\n",
       "      <td>29</td>\n",
       "      <td>0</td>\n",
       "      <td>NotReviewed</td>\n",
       "      <td>0.00</td>\n",
       "      <td>327</td>\n",
       "      <td>347</td>\n",
       "    </tr>\n",
       "  </tbody>\n",
       "</table>\n",
       "<p>238 rows × 16 columns</p>\n",
       "</div>"
      ],
      "text/plain": [
       "             id                                               name    host_id  \\\n",
       "38294  30181945         Sonder | 180 Water | Premier 1BR + Rooftop  219517861   \n",
       "38588  30347708        Sonder | 180 Water | Charming 1BR + Rooftop  219517861   \n",
       "39771  30937594     Sonder | The Nash | Brilliant Studio + Rooftop  219517861   \n",
       "39772  30937595               Sonder | 11th Ave | Bright 1BR + Gym  219517861   \n",
       "39773  30937596         Sonder | 11th Ave | Contemporary 1BR + Gym  219517861   \n",
       "...         ...                                                ...        ...   \n",
       "47686  35869234              Sonder | 116 John | Classic 1BR + Gym  219517861   \n",
       "47687  35869466           Sonder | 116 John | Classic Studio + Gym  219517861   \n",
       "47691  35871510  Sonder | 116 John | Vibrant Studio + Fitness Room  219517861   \n",
       "47692  35871511     Sonder | 116 John | Vibrant 1BR + Fitness Room  219517861   \n",
       "47693  35871515         Sonder | 116 John | Stunning 1BR + Rooftop  219517861   \n",
       "\n",
       "          host_name neighbourhood_group       neighbourhood  latitude  \\\n",
       "38294  Sonder (NYC)           Manhattan  Financial District  40.70771   \n",
       "38588  Sonder (NYC)           Manhattan  Financial District  40.70743   \n",
       "39771  Sonder (NYC)           Manhattan         Murray Hill  40.74845   \n",
       "39772  Sonder (NYC)           Manhattan      Hell's Kitchen  40.76188   \n",
       "39773  Sonder (NYC)           Manhattan      Hell's Kitchen  40.76037   \n",
       "...             ...                 ...                 ...       ...   \n",
       "47686  Sonder (NYC)           Manhattan  Financial District  40.70852   \n",
       "47687  Sonder (NYC)           Manhattan  Financial District  40.70802   \n",
       "47691  Sonder (NYC)           Manhattan  Financial District  40.70818   \n",
       "47692  Sonder (NYC)           Manhattan  Financial District  40.70691   \n",
       "47693  Sonder (NYC)           Manhattan  Financial District  40.70772   \n",
       "\n",
       "       longitude        room_type  price  minimum_nights  number_of_reviews  \\\n",
       "38294  -74.00641  Entire home/apt    229              29                  1   \n",
       "38588  -74.00443  Entire home/apt    232              29                  1   \n",
       "39771  -73.97446  Entire home/apt    245               2                  4   \n",
       "39772  -73.99616  Entire home/apt    185              29                  1   \n",
       "39773  -73.99744  Entire home/apt    185              29                  1   \n",
       "...          ...              ...    ...             ...                ...   \n",
       "47686  -74.00510  Entire home/apt    198              29                  0   \n",
       "47687  -74.00642  Entire home/apt    180              29                  0   \n",
       "47691  -74.00631  Entire home/apt    135              29                  0   \n",
       "47692  -74.00682  Entire home/apt    165              29                  0   \n",
       "47693  -74.00673  Entire home/apt    165              29                  0   \n",
       "\n",
       "       last_review  reviews_per_month  calculated_host_listings_count  \\\n",
       "38294   2019-05-29               0.73                             327   \n",
       "38588   2019-05-21               0.60                             327   \n",
       "39771   2019-06-08               0.94                             327   \n",
       "39772   2019-06-20               1.00                             327   \n",
       "39773   2019-06-10               1.00                             327   \n",
       "...            ...                ...                             ...   \n",
       "47686  NotReviewed               0.00                             327   \n",
       "47687  NotReviewed               0.00                             327   \n",
       "47691  NotReviewed               0.00                             327   \n",
       "47692  NotReviewed               0.00                             327   \n",
       "47693  NotReviewed               0.00                             327   \n",
       "\n",
       "       availability_365  \n",
       "38294               219  \n",
       "38588               159  \n",
       "39771               137  \n",
       "39772               281  \n",
       "39773               332  \n",
       "...                 ...  \n",
       "47686               345  \n",
       "47687               338  \n",
       "47691               339  \n",
       "47692               342  \n",
       "47693               347  \n",
       "\n",
       "[238 rows x 16 columns]"
      ]
     },
     "execution_count": 29,
     "metadata": {},
     "output_type": "execute_result"
    }
   ],
   "source": [
    "###We see that Sonder(NYC) has the max number of listings\n",
    "dataset[dataset[\"host_id\"]==219517861]"
   ]
  },
  {
   "cell_type": "code",
   "execution_count": 30,
   "id": "963cb5e1",
   "metadata": {},
   "outputs": [],
   "source": [
    "dataset = dataset.drop(columns = [\"id\",\"host_name\"])"
   ]
  },
  {
   "cell_type": "code",
   "execution_count": 31,
   "id": "92cd2973",
   "metadata": {},
   "outputs": [],
   "source": [
    "### Let's Analyse the listing name column\n",
    "dataset[\"name_length\"]=dataset['name'].map(str).apply(len)"
   ]
  },
  {
   "cell_type": "code",
   "execution_count": 32,
   "id": "656a036d",
   "metadata": {},
   "outputs": [
    {
     "name": "stdout",
     "output_type": "stream",
     "text": [
      "179\n",
      "1\n",
      "25832\n",
      "4033\n"
     ]
    }
   ],
   "source": [
    "###Max and Min name length\n",
    "print(dataset[\"name_length\"].max())\n",
    "print(dataset[\"name_length\"].min())\n",
    "print(dataset[\"name_length\"].idxmax())\n",
    "print(dataset[\"name_length\"].idxmin())"
   ]
  },
  {
   "cell_type": "code",
   "execution_count": 33,
   "id": "f8f35f48",
   "metadata": {},
   "outputs": [
    {
     "data": {
      "text/plain": [
       "'The printing studio bedroom with garden in Bedstuy  !!Brooklyn. Historic neighborhood close to everything ! Full kitchen bathroom BBQ and porch at your disposal. Learn to print !!'"
      ]
     },
     "execution_count": 33,
     "metadata": {},
     "output_type": "execute_result"
    }
   ],
   "source": [
    "### Max name \n",
    "dataset.at[25832, 'name']"
   ]
  },
  {
   "cell_type": "code",
   "execution_count": 34,
   "id": "69aa1f34",
   "metadata": {},
   "outputs": [
    {
     "data": {
      "text/plain": [
       "'/'"
      ]
     },
     "execution_count": 34,
     "metadata": {},
     "output_type": "execute_result"
    }
   ],
   "source": [
    "###Min name\n",
    "dataset.at[4033, 'name']"
   ]
  },
  {
   "cell_type": "code",
   "execution_count": 35,
   "id": "e153792c",
   "metadata": {},
   "outputs": [
    {
     "name": "stderr",
     "output_type": "stream",
     "text": [
      "*c* argument looks like a single numeric RGB or RGBA sequence, which should be avoided as value-mapping will have precedence in case its length matches with *x* & *y*.  Please use the *color* keyword-argument or provide a 2D array with a single row if you intend to specify the same RGB or RGBA value for all points.\n"
     ]
    },
    {
     "data": {
      "text/plain": [
       "<AxesSubplot:xlabel='name_length', ylabel='number_of_reviews'>"
      ]
     },
     "execution_count": 35,
     "metadata": {},
     "output_type": "execute_result"
    },
    {
     "data": {
      "image/png": "[encoded data removed]",
      "text/plain": [
       "<Figure size 432x288 with 1 Axes>"
      ]
     },
     "metadata": {},
     "output_type": "display_data"
    }
   ],
   "source": [
    "### Let's figure if name length has an impact on how much it is noticed. We can assume higher number of reviews mean more people lived there and hence more people \"noticed\" the listing\n",
    "#dataset[\"name_length\"].corr(dataset[\"number_of_reviews\"])\n",
    "dataset.plot.scatter(x=\"name_length\", y =\"number_of_reviews\" )"
   ]
  },
  {
   "cell_type": "code",
   "execution_count": 36,
   "id": "a034aedd",
   "metadata": {},
   "outputs": [
    {
     "name": "stderr",
     "output_type": "stream",
     "text": [
      "*c* argument looks like a single numeric RGB or RGBA sequence, which should be avoided as value-mapping will have precedence in case its length matches with *x* & *y*.  Please use the *color* keyword-argument or provide a 2D array with a single row if you intend to specify the same RGB or RGBA value for all points.\n"
     ]
    },
    {
     "data": {
      "text/plain": [
       "<AxesSubplot:xlabel='price', ylabel='name_length'>"
      ]
     },
     "execution_count": 36,
     "metadata": {},
     "output_type": "execute_result"
    },
    {
     "data": {
      "image/png": "[encoded data removed]",
      "text/plain": [
       "<Figure size 432x288 with 1 Axes>"
      ]
     },
     "metadata": {},
     "output_type": "display_data"
    }
   ],
   "source": [
    "###There is hardly any relationship there. Lets try between price and name length \n",
    "dataset[dataset[\"name_length\"]<50].plot.scatter(x=\"price\", y =\"name_length\")\n",
    "#dataset[\"name_length\"].corr(dataset[\"price\"])\n"
   ]
  },
  {
   "cell_type": "code",
   "execution_count": 37,
   "id": "8c75ff82",
   "metadata": {},
   "outputs": [
    {
     "data": {
      "text/plain": [
       "<AxesSubplot:>"
      ]
     },
     "execution_count": 37,
     "metadata": {},
     "output_type": "execute_result"
    },
    {
     "data": {
      "image/png": "[encoded data removed]",
      "text/plain": [
       "<Figure size 432x288 with 1 Axes>"
      ]
     },
     "metadata": {},
     "output_type": "display_data"
    }
   ],
   "source": [
    "dataset.name_length.hist()"
   ]
  },
  {
   "cell_type": "code",
   "execution_count": 38,
   "id": "e6237c0b",
   "metadata": {},
   "outputs": [
    {
     "data": {
      "text/plain": [
       "Private room       21753\n",
       "Entire home/apt    19790\n",
       "Shared room         1126\n",
       "Name: room_type, dtype: int64"
      ]
     },
     "execution_count": 38,
     "metadata": {},
     "output_type": "execute_result"
    }
   ],
   "source": [
    "### Lets look at room_type variable\n",
    "dataset['room_type'].value_counts()\n",
    "### Most listings are either Entire home or Private room"
   ]
  },
  {
   "cell_type": "code",
   "execution_count": 39,
   "id": "a0393625",
   "metadata": {},
   "outputs": [],
   "source": [
    "rt_price = dataset.groupby(\"room_type\")[\"price\"].mean()"
   ]
  },
  {
   "cell_type": "code",
   "execution_count": 40,
   "id": "4f43b06d",
   "metadata": {},
   "outputs": [
    {
     "data": {
      "text/plain": [
       "room_type\n",
       "Entire home/apt    144.977211\n",
       "Private room        76.802832\n",
       "Shared room         56.925400\n",
       "Name: price, dtype: float64"
      ]
     },
     "execution_count": 40,
     "metadata": {},
     "output_type": "execute_result"
    }
   ],
   "source": [
    "### Entire room has the highest price and shared room has lowest avg price which makes sense.\n",
    "rt_price"
   ]
  },
  {
   "cell_type": "code",
   "execution_count": 41,
   "id": "d02669ad",
   "metadata": {},
   "outputs": [
    {
     "data": {
      "text/plain": [
       "count    42669.000000\n",
       "mean         6.856359\n",
       "std         19.981924\n",
       "min          1.000000\n",
       "25%          1.000000\n",
       "50%          2.000000\n",
       "75%          5.000000\n",
       "max       1250.000000\n",
       "Name: minimum_nights, dtype: float64"
      ]
     },
     "execution_count": 41,
     "metadata": {},
     "output_type": "execute_result"
    }
   ],
   "source": [
    "### Analysing minimum nights\n",
    "\n",
    "dataset[\"minimum_nights\"].describe()"
   ]
  },
  {
   "cell_type": "code",
   "execution_count": 42,
   "id": "e516db07",
   "metadata": {},
   "outputs": [
    {
     "data": {
      "text/plain": [
       "<AxesSubplot:>"
      ]
     },
     "execution_count": 42,
     "metadata": {},
     "output_type": "execute_result"
    },
    {
     "data": {
      "image/png": "[encoded data removed]",
      "text/plain": [
       "<Figure size 432x288 with 1 Axes>"
      ]
     },
     "metadata": {},
     "output_type": "display_data"
    }
   ],
   "source": [
    "### Analysing minimum nights\n",
    "### We see most values are between 1 to 100\n",
    "hist_mn=dataset[\"minimum_nights\"].hist()\n",
    "hist_mn"
   ]
  },
  {
   "cell_type": "code",
   "execution_count": 43,
   "id": "9fa9292e",
   "metadata": {},
   "outputs": [
    {
     "data": {
      "text/plain": [
       "<AxesSubplot:>"
      ]
     },
     "execution_count": 43,
     "metadata": {},
     "output_type": "execute_result"
    },
    {
     "data": {
      "image/png": "[encoded data removed]",
      "text/plain": [
       "<Figure size 432x288 with 1 Axes>"
      ]
     },
     "metadata": {},
     "output_type": "display_data"
    }
   ],
   "source": [
    "### Closer look\n",
    "hist_mn1=dataset[\"minimum_nights\"][dataset[\"minimum_nights\"]<10].hist()\n",
    "hist_mn1"
   ]
  },
  {
   "cell_type": "code",
   "execution_count": 44,
   "id": "07efd968",
   "metadata": {},
   "outputs": [
    {
     "data": {
      "text/plain": [
       "6         45\n",
       "14        90\n",
       "36        60\n",
       "81        31\n",
       "106       90\n",
       "        ... \n",
       "48312     90\n",
       "48325     60\n",
       "48368     60\n",
       "48446    365\n",
       "48752     32\n",
       "Name: minimum_nights, Length: 628, dtype: int64"
      ]
     },
     "execution_count": 44,
     "metadata": {},
     "output_type": "execute_result"
    }
   ],
   "source": [
    "dataset[\"minimum_nights\"][dataset[\"minimum_nights\"]>30]"
   ]
  },
  {
   "cell_type": "code",
   "execution_count": 45,
   "id": "767e9952",
   "metadata": {},
   "outputs": [],
   "source": [
    "### We replace all records with min nights > 30 by 30\n",
    "dataset.loc[(dataset.minimum_nights >30),\"minimum_nights\"]=30"
   ]
  },
  {
   "cell_type": "code",
   "execution_count": 46,
   "id": "7bf8465c",
   "metadata": {},
   "outputs": [
    {
     "data": {
      "text/plain": [
       "<AxesSubplot:>"
      ]
     },
     "execution_count": 46,
     "metadata": {},
     "output_type": "execute_result"
    },
    {
     "data": {
      "image/png": "[encoded data removed]",
      "text/plain": [
       "<Figure size 432x288 with 1 Axes>"
      ]
     },
     "metadata": {},
     "output_type": "display_data"
    }
   ],
   "source": [
    "hist_mn2=dataset[\"minimum_nights\"][dataset[\"minimum_nights\"]<30].hist()\n",
    "hist_mn2"
   ]
  },
  {
   "cell_type": "code",
   "execution_count": 47,
   "id": "b3c3acb5",
   "metadata": {},
   "outputs": [
    {
     "data": {
      "text/plain": [
       "0.059554361719124614"
      ]
     },
     "execution_count": 47,
     "metadata": {},
     "output_type": "execute_result"
    }
   ],
   "source": [
    "### Does minimum_nights have impact on price?\n",
    "dataset[\"minimum_nights\"].corr(dataset[\"price\"])"
   ]
  },
  {
   "cell_type": "code",
   "execution_count": 48,
   "id": "3bfee3fa",
   "metadata": {},
   "outputs": [
    {
     "data": {
      "text/plain": [
       "count    42669.000000\n",
       "mean       107.622747\n",
       "std        129.731981\n",
       "min          0.000000\n",
       "25%          0.000000\n",
       "50%         37.000000\n",
       "75%        211.000000\n",
       "max        365.000000\n",
       "Name: availability_365, dtype: float64"
      ]
     },
     "execution_count": 48,
     "metadata": {},
     "output_type": "execute_result"
    }
   ],
   "source": [
    "###Finally lets analyse availability_365 column\n",
    "dataset[\"availability_365\"].describe()"
   ]
  },
  {
   "cell_type": "code",
   "execution_count": 49,
   "id": "687f4338",
   "metadata": {},
   "outputs": [
    {
     "data": {
      "text/plain": [
       "<AxesSubplot:>"
      ]
     },
     "execution_count": 49,
     "metadata": {},
     "output_type": "execute_result"
    },
    {
     "data": {
      "image/png": "[encoded data removed]",
      "text/plain": [
       "<Figure size 432x288 with 1 Axes>"
      ]
     },
     "metadata": {},
     "output_type": "display_data"
    }
   ],
   "source": [
    "hist_av=dataset[\"availability_365\"].hist()\n",
    "hist_av"
   ]
  },
  {
   "cell_type": "code",
   "execution_count": 50,
   "id": "b0c73fc2",
   "metadata": {},
   "outputs": [],
   "source": [
    "### After analysis, I have decided to drop these columns as they will not be useful in prediction\n",
    "dataset.drop([\"name\",'last_review',\"latitude\",'longitude'], axis=1, inplace=True)"
   ]
  },
  {
   "cell_type": "code",
   "execution_count": 51,
   "id": "7170f272",
   "metadata": {},
   "outputs": [],
   "source": [
    "### Dropping host_id\n",
    "dataset.drop([\"host_id\"], axis=1, inplace=True)"
   ]
  },
  {
   "cell_type": "code",
   "execution_count": 52,
   "id": "93d28944",
   "metadata": {},
   "outputs": [
    {
     "data": {
      "text/plain": [
       "Index(['neighbourhood_group', 'neighbourhood', 'room_type', 'price',\n",
       "       'minimum_nights', 'number_of_reviews', 'reviews_per_month',\n",
       "       'calculated_host_listings_count', 'availability_365', 'name_length'],\n",
       "      dtype='object')"
      ]
     },
     "execution_count": 52,
     "metadata": {},
     "output_type": "execute_result"
    },
    {
     "data": {
      "image/png": "[encoded data removed]",
      "text/plain": [
       "<Figure size 1080x576 with 2 Axes>"
      ]
     },
     "metadata": {},
     "output_type": "display_data"
    }
   ],
   "source": [
    "### Plotting correlation matrix \n",
    "corr = dataset.corr(method='pearson')\n",
    "plt.figure(figsize=(15,8))\n",
    "sns.heatmap(corr, annot=True)\n",
    "dataset.columns"
   ]
  },
  {
   "cell_type": "code",
   "execution_count": 53,
   "id": "4792ff02",
   "metadata": {},
   "outputs": [
    {
     "data": {
      "text/plain": [
       "neighbourhood_group                object\n",
       "neighbourhood                      object\n",
       "room_type                          object\n",
       "price                               int64\n",
       "minimum_nights                      int64\n",
       "number_of_reviews                   int64\n",
       "reviews_per_month                 float64\n",
       "calculated_host_listings_count      int64\n",
       "availability_365                    int64\n",
       "name_length                         int64\n",
       "dtype: object"
      ]
     },
     "execution_count": 53,
     "metadata": {},
     "output_type": "execute_result"
    }
   ],
   "source": [
    "### Lets check out data one more time before beginning prediction. \n",
    "###Looks good!\n",
    "dataset.dtypes"
   ]
  },
  {
   "cell_type": "code",
   "execution_count": 54,
   "id": "4bc997e3",
   "metadata": {},
   "outputs": [],
   "source": [
    "## lets try without neighbourhood column\n",
    "\n",
    "dataset_onehot1 = pd.get_dummies(dataset, columns=['neighbourhood_group',\"room_type\"], prefix = ['ng',\"rt\"],drop_first=True)\n",
    "dataset_onehot1.drop([\"neighbourhood\"], axis=1, inplace=True)"
   ]
  },
  {
   "cell_type": "code",
   "execution_count": 55,
   "id": "f407e198",
   "metadata": {},
   "outputs": [
    {
     "data": {
      "text/plain": [
       "(42669, 13)"
      ]
     },
     "execution_count": 55,
     "metadata": {},
     "output_type": "execute_result"
    }
   ],
   "source": [
    "dataset_onehot1.shape"
   ]
  },
  {
   "cell_type": "code",
   "execution_count": 56,
   "id": "6d04992c",
   "metadata": {},
   "outputs": [],
   "source": [
    "X1= dataset_onehot1.loc[:, dataset_onehot1.columns != 'price']\n"
   ]
  },
  {
   "cell_type": "code",
   "execution_count": 57,
   "id": "961f363e",
   "metadata": {},
   "outputs": [],
   "source": [
    "Y1 = dataset_onehot1[\"price\"]"
   ]
  },
  {
   "cell_type": "code",
   "execution_count": 58,
   "id": "25e7eda0",
   "metadata": {},
   "outputs": [],
   "source": [
    "x_train1, x_test1, y_train1, y_test1 = train_test_split(X1, Y1, test_size=0.20, random_state=42)"
   ]
  },
  {
   "cell_type": "code",
   "execution_count": 59,
   "id": "fa414151",
   "metadata": {},
   "outputs": [],
   "source": [
    "### Fitting Linear regression\n",
    "reg1 = LinearRegression().fit(x_train1, y_train1)"
   ]
  },
  {
   "cell_type": "code",
   "execution_count": 60,
   "id": "2a1cffef",
   "metadata": {},
   "outputs": [
    {
     "data": {
      "text/plain": [
       "0.5033306680968379"
      ]
     },
     "execution_count": 60,
     "metadata": {},
     "output_type": "execute_result"
    }
   ],
   "source": [
    "### R squared value\n",
    "reg1.score(x_train1, y_train1)\n"
   ]
  },
  {
   "cell_type": "code",
   "execution_count": 61,
   "id": "ed571cea",
   "metadata": {},
   "outputs": [
    {
     "data": {
      "text/plain": [
       "array([-8.09520215e-01, -9.08803421e-03, -1.61641699e+00,  1.42434665e-01,\n",
       "        4.67863558e-02,  1.98696542e-01,  1.98040033e+01,  4.41704660e+01,\n",
       "        9.69056189e+00,  2.05907986e-01, -6.56442414e+01, -8.90902274e+01])"
      ]
     },
     "execution_count": 61,
     "metadata": {},
     "output_type": "execute_result"
    }
   ],
   "source": [
    "### Coefficients\n",
    "reg1.coef_"
   ]
  },
  {
   "cell_type": "code",
   "execution_count": 62,
   "id": "50ba84bc",
   "metadata": {},
   "outputs": [],
   "source": [
    "### Predicting \n",
    "y_pred1 = reg1.predict(x_test1)\n"
   ]
  },
  {
   "cell_type": "code",
   "execution_count": 63,
   "id": "ace724f3",
   "metadata": {},
   "outputs": [
    {
     "data": {
      "text/html": [
       "<div>\n",
       "<style scoped>\n",
       "    .dataframe tbody tr th:only-of-type {\n",
       "        vertical-align: middle;\n",
       "    }\n",
       "\n",
       "    .dataframe tbody tr th {\n",
       "        vertical-align: top;\n",
       "    }\n",
       "\n",
       "    .dataframe thead th {\n",
       "        text-align: right;\n",
       "    }\n",
       "</style>\n",
       "<table border=\"1\" class=\"dataframe\">\n",
       "  <thead>\n",
       "    <tr style=\"text-align: right;\">\n",
       "      <th></th>\n",
       "      <th>Variable</th>\n",
       "      <th>Coefficient</th>\n",
       "    </tr>\n",
       "  </thead>\n",
       "  <tbody>\n",
       "    <tr>\n",
       "      <th>11</th>\n",
       "      <td>rt_Shared room</td>\n",
       "      <td>-89.090227</td>\n",
       "    </tr>\n",
       "    <tr>\n",
       "      <th>10</th>\n",
       "      <td>rt_Private room</td>\n",
       "      <td>-65.644241</td>\n",
       "    </tr>\n",
       "    <tr>\n",
       "      <th>2</th>\n",
       "      <td>reviews_per_month</td>\n",
       "      <td>-1.616417</td>\n",
       "    </tr>\n",
       "    <tr>\n",
       "      <th>0</th>\n",
       "      <td>minimum_nights</td>\n",
       "      <td>-0.809520</td>\n",
       "    </tr>\n",
       "    <tr>\n",
       "      <th>1</th>\n",
       "      <td>number_of_reviews</td>\n",
       "      <td>-0.009088</td>\n",
       "    </tr>\n",
       "    <tr>\n",
       "      <th>4</th>\n",
       "      <td>availability_365</td>\n",
       "      <td>0.046786</td>\n",
       "    </tr>\n",
       "    <tr>\n",
       "      <th>3</th>\n",
       "      <td>calculated_host_listings_count</td>\n",
       "      <td>0.142435</td>\n",
       "    </tr>\n",
       "    <tr>\n",
       "      <th>5</th>\n",
       "      <td>name_length</td>\n",
       "      <td>0.198697</td>\n",
       "    </tr>\n",
       "    <tr>\n",
       "      <th>9</th>\n",
       "      <td>ng_Staten Island</td>\n",
       "      <td>0.205908</td>\n",
       "    </tr>\n",
       "    <tr>\n",
       "      <th>8</th>\n",
       "      <td>ng_Queens</td>\n",
       "      <td>9.690562</td>\n",
       "    </tr>\n",
       "    <tr>\n",
       "      <th>6</th>\n",
       "      <td>ng_Brooklyn</td>\n",
       "      <td>19.804003</td>\n",
       "    </tr>\n",
       "    <tr>\n",
       "      <th>7</th>\n",
       "      <td>ng_Manhattan</td>\n",
       "      <td>44.170466</td>\n",
       "    </tr>\n",
       "  </tbody>\n",
       "</table>\n",
       "</div>"
      ],
      "text/plain": [
       "                          Variable  Coefficient\n",
       "11                  rt_Shared room   -89.090227\n",
       "10                 rt_Private room   -65.644241\n",
       "2                reviews_per_month    -1.616417\n",
       "0                   minimum_nights    -0.809520\n",
       "1                number_of_reviews    -0.009088\n",
       "4                 availability_365     0.046786\n",
       "3   calculated_host_listings_count     0.142435\n",
       "5                      name_length     0.198697\n",
       "9                 ng_Staten Island     0.205908\n",
       "8                        ng_Queens     9.690562\n",
       "6                      ng_Brooklyn    19.804003\n",
       "7                     ng_Manhattan    44.170466"
      ]
     },
     "execution_count": 63,
     "metadata": {},
     "output_type": "execute_result"
    }
   ],
   "source": [
    "Coeff1 = pd.DataFrame(columns=[\"Variable\",\"Coefficient\"])\n",
    "Coeff1[\"Variable\"]=x_train1.columns\n",
    "Coeff1[\"Coefficient\"]=reg1.coef_\n",
    "Coeff1.sort_values(\"Coefficient\")"
   ]
  },
  {
   "cell_type": "code",
   "execution_count": 64,
   "id": "c3783f93",
   "metadata": {},
   "outputs": [
    {
     "data": {
      "text/plain": [
       "37.68798547656789"
      ]
     },
     "execution_count": 64,
     "metadata": {},
     "output_type": "execute_result"
    }
   ],
   "source": [
    "### Calculate RMSE\n",
    "rmse1 = np.sqrt(metrics.mean_squared_error(y_test1, y_pred1))\n",
    "rmse1"
   ]
  },
  {
   "cell_type": "code",
   "execution_count": 65,
   "id": "45103586",
   "metadata": {},
   "outputs": [
    {
     "name": "stdout",
     "output_type": "stream",
     "text": [
      "                            OLS Regression Results                            \n",
      "==============================================================================\n",
      "Dep. Variable:                  price   R-squared:                       0.503\n",
      "Model:                            OLS   Adj. R-squared:                  0.503\n",
      "Method:                 Least Squares   F-statistic:                     2882.\n",
      "Date:                Tue, 16 Nov 2021   Prob (F-statistic):               0.00\n",
      "Time:                        13:21:58   Log-Likelihood:            -1.7259e+05\n",
      "No. Observations:               34135   AIC:                         3.452e+05\n",
      "Df Residuals:                   34122   BIC:                         3.453e+05\n",
      "Df Model:                          12                                         \n",
      "Covariance Type:            nonrobust                                         \n",
      "==================================================================================================\n",
      "                                     coef    std err          t      P>|t|      [0.025      0.975]\n",
      "--------------------------------------------------------------------------------------------------\n",
      "const                            109.6210      1.526     71.839      0.000     106.630     112.612\n",
      "minimum_nights                    -0.8095      0.027    -30.109      0.000      -0.862      -0.757\n",
      "number_of_reviews                 -0.0091      0.006     -1.607      0.108      -0.020       0.002\n",
      "reviews_per_month                 -1.6164      0.163     -9.906      0.000      -1.936      -1.297\n",
      "calculated_host_listings_count     0.1424      0.008     18.082      0.000       0.127       0.158\n",
      "availability_365                   0.0468      0.002     26.685      0.000       0.043       0.050\n",
      "name_length                        0.1987      0.020      9.866      0.000       0.159       0.238\n",
      "ng_Brooklyn                       19.8040      1.349     14.680      0.000      17.160      22.448\n",
      "ng_Manhattan                      44.1705      1.356     32.576      0.000      41.513      46.828\n",
      "ng_Queens                          9.6906      1.428      6.787      0.000       6.892      12.489\n",
      "ng_Staten Island                   0.2059      2.583      0.080      0.936      -4.857       5.268\n",
      "rt_Private room                  -65.6442      0.427   -153.848      0.000     -66.481     -64.808\n",
      "rt_Shared room                   -89.0902      1.315    -67.764      0.000     -91.667     -86.513\n",
      "==============================================================================\n",
      "Omnibus:                     2348.378   Durbin-Watson:                   1.999\n",
      "Prob(Omnibus):                  0.000   Jarque-Bera (JB):             3132.292\n",
      "Skew:                           0.617   Prob(JB):                         0.00\n",
      "Kurtosis:                       3.825   Cond. No.                     2.69e+03\n",
      "==============================================================================\n",
      "\n",
      "Notes:\n",
      "[1] Standard Errors assume that the covariance matrix of the errors is correctly specified.\n",
      "[2] The condition number is large, 2.69e+03. This might indicate that there are\n",
      "strong multicollinearity or other numerical problems.\n"
     ]
    },
    {
     "name": "stderr",
     "output_type": "stream",
     "text": [
      "C:\\Users\\athar\\anaconda3\\lib\\site-packages\\statsmodels\\tsa\\tsatools.py:142: FutureWarning: In a future version of pandas all arguments of concat except for the argument 'objs' will be keyword-only\n",
      "  x = pd.concat(x[::order], 1)\n"
     ]
    }
   ],
   "source": [
    "### Taking a closer look at the estimates\n",
    "X2 = sm.add_constant(x_train1)\n",
    "est = sm.OLS(y_train1, X2)\n",
    "est2 = est.fit()\n",
    "print(est2.summary())"
   ]
  },
  {
   "cell_type": "code",
   "execution_count": 66,
   "id": "d7ff5c12",
   "metadata": {},
   "outputs": [
    {
     "name": "stdout",
     "output_type": "stream",
     "text": [
      "                            OLS Regression Results                            \n",
      "==============================================================================\n",
      "Dep. Variable:                  price   R-squared:                       0.503\n",
      "Model:                            OLS   Adj. R-squared:                  0.503\n",
      "Method:                 Least Squares   F-statistic:                     3458.\n",
      "Date:                Tue, 16 Nov 2021   Prob (F-statistic):               0.00\n",
      "Time:                        13:21:58   Log-Likelihood:            -1.7259e+05\n",
      "No. Observations:               34135   AIC:                         3.452e+05\n",
      "Df Residuals:                   34124   BIC:                         3.453e+05\n",
      "Df Model:                          10                                         \n",
      "Covariance Type:            nonrobust                                         \n",
      "==================================================================================================\n",
      "                                     coef    std err          t      P>|t|      [0.025      0.975]\n",
      "--------------------------------------------------------------------------------------------------\n",
      "const                            109.6143      1.382     79.321      0.000     106.906     112.323\n",
      "minimum_nights                    -0.8075      0.027    -30.067      0.000      -0.860      -0.755\n",
      "reviews_per_month                 -1.7642      0.135    -13.088      0.000      -2.028      -1.500\n",
      "calculated_host_listings_count     0.1433      0.008     18.229      0.000       0.128       0.159\n",
      "availability_365                   0.0464      0.002     26.735      0.000       0.043       0.050\n",
      "name_length                        0.2009      0.020      9.997      0.000       0.161       0.240\n",
      "ng_Brooklyn                       19.6740      1.177     16.717      0.000      17.367      21.981\n",
      "ng_Manhattan                      44.0432      1.185     37.176      0.000      41.721      46.365\n",
      "ng_Queens                          9.6222      1.267      7.595      0.000       7.139      12.105\n",
      "rt_Private room                  -65.6214      0.426   -153.908      0.000     -66.457     -64.786\n",
      "rt_Shared room                   -88.9922      1.313    -67.782      0.000     -91.566     -86.419\n",
      "==============================================================================\n",
      "Omnibus:                     2356.066   Durbin-Watson:                   1.998\n",
      "Prob(Omnibus):                  0.000   Jarque-Bera (JB):             3145.650\n",
      "Skew:                           0.618   Prob(JB):                         0.00\n",
      "Kurtosis:                       3.827   Cond. No.                     1.94e+03\n",
      "==============================================================================\n",
      "\n",
      "Notes:\n",
      "[1] Standard Errors assume that the covariance matrix of the errors is correctly specified.\n",
      "[2] The condition number is large, 1.94e+03. This might indicate that there are\n",
      "strong multicollinearity or other numerical problems.\n"
     ]
    },
    {
     "name": "stderr",
     "output_type": "stream",
     "text": [
      "C:\\Users\\athar\\anaconda3\\lib\\site-packages\\statsmodels\\tsa\\tsatools.py:142: FutureWarning: In a future version of pandas all arguments of concat except for the argument 'objs' will be keyword-only\n",
      "  x = pd.concat(x[::order], 1)\n"
     ]
    }
   ],
   "source": [
    "## No of reviews and ng_Staten Island is not significant and does not help our model much. Drop it\n",
    "x_train1.drop([\"number_of_reviews\",\"ng_Staten Island\"], axis=1,inplace=True)\n",
    "X2 = sm.add_constant(x_train1)\n",
    "est = sm.OLS(y_train1, X2)\n",
    "est2 = est.fit()\n",
    "print(est2.summary())\n",
    "### Does not improve our model much"
   ]
  },
  {
   "cell_type": "code",
   "execution_count": null,
   "id": "9bcb08a9",
   "metadata": {},
   "outputs": [],
   "source": []
  },
  {
   "cell_type": "code",
   "execution_count": 67,
   "id": "0da1cbd5",
   "metadata": {},
   "outputs": [],
   "source": [
    "dataset_onehot2 = pd.get_dummies(dataset,\n",
    "                                 columns=['neighbourhood_group',\"neighbourhood\",\"room_type\"], \n",
    "                                 prefix = ['ng',\"nh\",\"rt\"],drop_first=False)"
   ]
  },
  {
   "cell_type": "code",
   "execution_count": 68,
   "id": "c4da7b5e",
   "metadata": {},
   "outputs": [
    {
     "data": {
      "text/plain": [
       "(42669, 234)"
      ]
     },
     "execution_count": 68,
     "metadata": {},
     "output_type": "execute_result"
    }
   ],
   "source": [
    "dataset_onehot2.shape\n"
   ]
  },
  {
   "cell_type": "code",
   "execution_count": 69,
   "id": "82225118",
   "metadata": {},
   "outputs": [],
   "source": [
    "XL1= dataset_onehot2.loc[:, dataset_onehot2.columns != 'price']\n",
    "YL1 = dataset_onehot2[\"price\"]\n",
    "x_trainL11, x_testL11, y_trainL11, y_testL11 = train_test_split(XL1, YL1, test_size=0.20, random_state=42)"
   ]
  },
  {
   "cell_type": "code",
   "execution_count": 70,
   "id": "9e8869ae",
   "metadata": {},
   "outputs": [
    {
     "data": {
      "text/plain": [
       "Lasso(alpha=0.01)"
      ]
     },
     "execution_count": 70,
     "metadata": {},
     "output_type": "execute_result"
    }
   ],
   "source": [
    "regL1 = Lasso(alpha=0.01)\n",
    "regL1.fit(x_trainL11, y_trainL11) "
   ]
  },
  {
   "cell_type": "code",
   "execution_count": 71,
   "id": "2c8dfdfe",
   "metadata": {},
   "outputs": [
    {
     "data": {
      "text/plain": [
       "0.567273415079738"
      ]
     },
     "execution_count": 71,
     "metadata": {},
     "output_type": "execute_result"
    }
   ],
   "source": [
    "### R squared\n",
    "### This regularised model did way better than normal linear regression\n",
    "regL1.score(x_trainL11, y_trainL11)"
   ]
  },
  {
   "cell_type": "code",
   "execution_count": 72,
   "id": "76aa7cdb",
   "metadata": {},
   "outputs": [
    {
     "name": "stdout",
     "output_type": "stream",
     "text": [
      "35.12418778393195\n"
     ]
    }
   ],
   "source": [
    "### RMSE\n",
    "### Smaller value than earlier\n",
    "y_predL1= regL1.predict(x_testL11)\n",
    "print(np.sqrt(metrics.mean_squared_error(y_testL11,y_predL1)))"
   ]
  },
  {
   "cell_type": "code",
   "execution_count": 73,
   "id": "d3a60b93",
   "metadata": {},
   "outputs": [
    {
     "data": {
      "text/plain": [
       "array([-8.74425033e-01, -1.54751782e-02, -1.22179400e+00,  8.53002321e-02,\n",
       "        5.35810896e-02,  1.32761316e-01, -7.28377764e+00,  6.02375904e+00,\n",
       "        4.36500156e+01,  0.00000000e+00, -5.83296354e+00, -0.00000000e+00,\n",
       "       -0.00000000e+00, -0.00000000e+00,  0.00000000e+00,  7.38167608e+00,\n",
       "       -0.00000000e+00,  0.00000000e+00, -5.51564818e-01,  0.00000000e+00,\n",
       "        0.00000000e+00, -0.00000000e+00,  0.00000000e+00,  0.00000000e+00,\n",
       "        6.21248087e-01,  0.00000000e+00,  0.00000000e+00,  0.00000000e+00,\n",
       "       -9.24682825e+00, -0.00000000e+00,  2.15137167e+01, -1.25526209e+01,\n",
       "        0.00000000e+00, -0.00000000e+00, -0.00000000e+00, -2.74065583e+00,\n",
       "        2.93717277e+01, -4.39050540e+00, -0.00000000e+00, -1.34116345e+00,\n",
       "        0.00000000e+00, -7.53429447e+00,  2.39726501e+01, -0.00000000e+00,\n",
       "        0.00000000e+00,  1.25698946e+01, -6.67372887e+00,  0.00000000e+00,\n",
       "        0.00000000e+00,  0.00000000e+00, -0.00000000e+00, -0.00000000e+00,\n",
       "        1.77916675e+01,  0.00000000e+00,  2.19675577e+01, -0.00000000e+00,\n",
       "        2.35511564e+00, -0.00000000e+00,  0.00000000e+00,  0.00000000e+00,\n",
       "       -0.00000000e+00, -1.03225604e+01,  0.00000000e+00, -9.35497989e+00,\n",
       "        3.24201816e+01,  3.92751723e+00, -0.00000000e+00, -0.00000000e+00,\n",
       "        2.54074414e+01, -0.00000000e+00, -0.00000000e+00, -6.35229854e+00,\n",
       "       -1.93587423e+01,  0.00000000e+00, -1.06619655e+01, -0.00000000e+00,\n",
       "       -0.00000000e+00, -0.00000000e+00,  0.00000000e+00, -0.00000000e+00,\n",
       "       -0.00000000e+00,  0.00000000e+00, -0.00000000e+00,  0.00000000e+00,\n",
       "        1.25499393e+01, -9.74182702e+00,  8.44368302e+00, -0.00000000e+00,\n",
       "        1.78140630e+00,  0.00000000e+00,  0.00000000e+00,  2.42849921e+01,\n",
       "        0.00000000e+00, -0.00000000e+00, -0.00000000e+00,  2.10584734e+01,\n",
       "        3.26421457e+00, -0.00000000e+00, -0.00000000e+00, -1.69933973e+00,\n",
       "        0.00000000e+00,  2.09500210e+01,  1.62674656e+01,  0.00000000e+00,\n",
       "       -2.66354840e+01,  1.07427508e+01,  0.00000000e+00,  0.00000000e+00,\n",
       "        0.00000000e+00,  0.00000000e+00, -0.00000000e+00, -0.00000000e+00,\n",
       "       -0.00000000e+00, -4.02071302e+01, -0.00000000e+00, -0.00000000e+00,\n",
       "       -0.00000000e+00,  0.00000000e+00, -7.59181402e+00,  0.00000000e+00,\n",
       "       -0.00000000e+00,  0.00000000e+00, -1.07782936e+00,  0.00000000e+00,\n",
       "        0.00000000e+00,  0.00000000e+00, -0.00000000e+00,  1.73937253e+01,\n",
       "        0.00000000e+00, -2.71308806e+00, -0.00000000e+00, -1.69019600e+01,\n",
       "        0.00000000e+00, -0.00000000e+00, -0.00000000e+00, -0.00000000e+00,\n",
       "       -0.00000000e+00,  1.19551901e+01, -8.75823050e+00, -0.00000000e+00,\n",
       "       -2.14025281e+01,  0.00000000e+00, -0.00000000e+00,  0.00000000e+00,\n",
       "        0.00000000e+00, -0.00000000e+00, -0.00000000e+00,  9.86914003e+00,\n",
       "        1.14136915e+01,  0.00000000e+00,  0.00000000e+00, -0.00000000e+00,\n",
       "       -0.00000000e+00, -0.00000000e+00,  0.00000000e+00,  6.16959504e+00,\n",
       "        0.00000000e+00,  6.63534741e-01, -0.00000000e+00,  0.00000000e+00,\n",
       "       -3.00727998e+00,  2.40402603e+01, -0.00000000e+00,  0.00000000e+00,\n",
       "       -3.32539641e+00,  5.03102537e+00,  0.00000000e+00,  0.00000000e+00,\n",
       "        1.57320017e+01, -2.61309569e+00, -7.54788913e+00, -0.00000000e+00,\n",
       "        1.65834692e-01, -7.34899767e+00, -0.00000000e+00, -0.00000000e+00,\n",
       "       -7.69640580e-01,  0.00000000e+00,  3.40150142e+00, -1.64965268e+01,\n",
       "        0.00000000e+00, -2.57446189e+00,  0.00000000e+00,  0.00000000e+00,\n",
       "        0.00000000e+00, -5.49247660e+00,  0.00000000e+00, -0.00000000e+00,\n",
       "        1.42952836e+01, -0.00000000e+00,  0.00000000e+00, -0.00000000e+00,\n",
       "        1.88963607e+01,  2.18314420e+00, -0.00000000e+00, -6.37999922e+00,\n",
       "        0.00000000e+00, -0.00000000e+00, -0.00000000e+00,  2.34288436e-01,\n",
       "       -2.51204018e+00,  1.19322841e+01, -0.00000000e+00, -0.00000000e+00,\n",
       "       -0.00000000e+00, -0.00000000e+00, -0.00000000e+00,  2.12507906e+01,\n",
       "       -2.00138812e+00, -0.00000000e+00,  0.00000000e+00, -4.46836372e+00,\n",
       "       -2.66656329e+00, -0.00000000e+00,  3.24707905e+01, -0.00000000e+00,\n",
       "       -3.88464188e+01, -0.00000000e+00,  0.00000000e+00,  1.89974286e+01,\n",
       "       -0.00000000e+00, -0.00000000e+00, -0.00000000e+00, -0.00000000e+00,\n",
       "        2.27908033e+01,  0.00000000e+00,  3.21814662e+00, -6.43001020e+00,\n",
       "       -0.00000000e+00,  1.70994714e+00,  6.17314822e+01,  0.00000000e+00,\n",
       "       -2.28698012e+01])"
      ]
     },
     "execution_count": 73,
     "metadata": {},
     "output_type": "execute_result"
    }
   ],
   "source": [
    "### We can see that some parameters have zero coefficients.\n",
    "regL1.coef_"
   ]
  },
  {
   "cell_type": "code",
   "execution_count": 74,
   "id": "954d17fc",
   "metadata": {},
   "outputs": [
    {
     "data": {
      "text/html": [
       "<div>\n",
       "<style scoped>\n",
       "    .dataframe tbody tr th:only-of-type {\n",
       "        vertical-align: middle;\n",
       "    }\n",
       "\n",
       "    .dataframe tbody tr th {\n",
       "        vertical-align: top;\n",
       "    }\n",
       "\n",
       "    .dataframe thead th {\n",
       "        text-align: right;\n",
       "    }\n",
       "</style>\n",
       "<table border=\"1\" class=\"dataframe\">\n",
       "  <thead>\n",
       "    <tr style=\"text-align: right;\">\n",
       "      <th></th>\n",
       "      <th>Variable</th>\n",
       "      <th>Coefficients</th>\n",
       "    </tr>\n",
       "  </thead>\n",
       "  <tbody>\n",
       "    <tr>\n",
       "      <th>230</th>\n",
       "      <td>rt_Entire home/apt</td>\n",
       "      <td>61.731482</td>\n",
       "    </tr>\n",
       "    <tr>\n",
       "      <th>8</th>\n",
       "      <td>ng_Manhattan</td>\n",
       "      <td>43.650016</td>\n",
       "    </tr>\n",
       "    <tr>\n",
       "      <th>214</th>\n",
       "      <td>nh_Vinegar Hill</td>\n",
       "      <td>32.470790</td>\n",
       "    </tr>\n",
       "    <tr>\n",
       "      <th>64</th>\n",
       "      <td>nh_DUMBO</td>\n",
       "      <td>32.420182</td>\n",
       "    </tr>\n",
       "    <tr>\n",
       "      <th>36</th>\n",
       "      <td>nh_Brooklyn Heights</td>\n",
       "      <td>29.371728</td>\n",
       "    </tr>\n",
       "    <tr>\n",
       "      <th>...</th>\n",
       "      <td>...</td>\n",
       "      <td>...</td>\n",
       "    </tr>\n",
       "    <tr>\n",
       "      <th>140</th>\n",
       "      <td>nh_Morningside Heights</td>\n",
       "      <td>-21.402528</td>\n",
       "    </tr>\n",
       "    <tr>\n",
       "      <th>232</th>\n",
       "      <td>rt_Shared room</td>\n",
       "      <td>-22.869801</td>\n",
       "    </tr>\n",
       "    <tr>\n",
       "      <th>104</th>\n",
       "      <td>nh_Harlem</td>\n",
       "      <td>-26.635484</td>\n",
       "    </tr>\n",
       "    <tr>\n",
       "      <th>216</th>\n",
       "      <td>nh_Washington Heights</td>\n",
       "      <td>-38.846419</td>\n",
       "    </tr>\n",
       "    <tr>\n",
       "      <th>113</th>\n",
       "      <td>nh_Inwood</td>\n",
       "      <td>-40.207130</td>\n",
       "    </tr>\n",
       "  </tbody>\n",
       "</table>\n",
       "<p>233 rows × 2 columns</p>\n",
       "</div>"
      ],
      "text/plain": [
       "                   Variable  Coefficients\n",
       "230      rt_Entire home/apt     61.731482\n",
       "8              ng_Manhattan     43.650016\n",
       "214         nh_Vinegar Hill     32.470790\n",
       "64                 nh_DUMBO     32.420182\n",
       "36      nh_Brooklyn Heights     29.371728\n",
       "..                      ...           ...\n",
       "140  nh_Morningside Heights    -21.402528\n",
       "232          rt_Shared room    -22.869801\n",
       "104               nh_Harlem    -26.635484\n",
       "216   nh_Washington Heights    -38.846419\n",
       "113               nh_Inwood    -40.207130\n",
       "\n",
       "[233 rows x 2 columns]"
      ]
     },
     "execution_count": 74,
     "metadata": {},
     "output_type": "execute_result"
    }
   ],
   "source": [
    "CoeffLS1 = pd.DataFrame(columns=[\"Variable\",\"Coefficients\"])\n",
    "CoeffLS1[\"Variable\"]=x_trainL11.columns\n",
    "CoeffLS1[\"Coefficients\"]=regL1.coef_\n",
    "CoeffLS1.sort_values(\"Coefficients\", ascending = False)"
   ]
  },
  {
   "cell_type": "code",
   "execution_count": 75,
   "id": "ca216bb8",
   "metadata": {},
   "outputs": [
    {
     "data": {
      "text/plain": [
       "RandomForestRegressor(n_estimators=300)"
      ]
     },
     "execution_count": 75,
     "metadata": {},
     "output_type": "execute_result"
    }
   ],
   "source": [
    "### Initially, lets build a tree without any constraints.\n",
    "regrRM = RandomForestRegressor(n_estimators=300)\n",
    "regrRM.fit(x_trainL11, y_trainL11)\n"
   ]
  },
  {
   "cell_type": "code",
   "execution_count": 76,
   "id": "0e92f480",
   "metadata": {},
   "outputs": [
    {
     "name": "stdout",
     "output_type": "stream",
     "text": [
      "0.9360305880602783\n",
      "34.896752596848316\n"
     ]
    }
   ],
   "source": [
    "### We get R squared value at 93.6%! There is obviously a problem of overfitting:(\n",
    "\n",
    "print(regrRM.score(x_trainL11, y_trainL11))\n",
    "y_predL1= regrRM.predict(x_testL11)\n",
    "print(np.sqrt(metrics.mean_squared_error(y_testL11,y_predL1)))"
   ]
  },
  {
   "cell_type": "code",
   "execution_count": 77,
   "id": "d74fa539",
   "metadata": {},
   "outputs": [
    {
     "data": {
      "text/plain": [
       "array([5.21886217e-02, 5.80779576e-02, 7.74456936e-02, 3.67891007e-02,\n",
       "       7.27920100e-02, 8.43730908e-02, 8.40903828e-04, 3.76857373e-03,\n",
       "       6.06948879e-02, 1.07404822e-03, 2.70606725e-04, 1.98826175e-04,\n",
       "       1.24618320e-06, 9.39458592e-05, 2.65445693e-04, 1.24966469e-03,\n",
       "       2.23674460e-05, 2.30227348e-04, 7.07126971e-04, 4.32847797e-05,\n",
       "       1.71215825e-05, 3.93356031e-06, 2.08452276e-04, 7.58476425e-05,\n",
       "       2.98151200e-03, 4.47319416e-04, 4.06992130e-05, 2.28628098e-04,\n",
       "       2.23498480e-04, 1.32186859e-04, 8.01352712e-04, 3.51131050e-04,\n",
       "       1.25865984e-04, 3.20840418e-04, 2.76793447e-04, 1.67284915e-05,\n",
       "       1.48043486e-03, 1.54678997e-04, 7.90684467e-06, 2.33176036e-03,\n",
       "       8.60697263e-05, 4.27236900e-04, 1.42414451e-03, 1.12659956e-05,\n",
       "       7.22587223e-05, 2.57822272e-03, 9.77778596e-04, 5.50994102e-05,\n",
       "       2.25693329e-04, 9.65586456e-05, 1.04888278e-05, 1.17118954e-04,\n",
       "       1.95012180e-03, 1.34288017e-06, 4.89112744e-04, 4.81121376e-05,\n",
       "       2.61059932e-04, 9.06107275e-05, 1.58479999e-04, 4.91762606e-05,\n",
       "       4.22089814e-05, 4.75651555e-05, 2.21915307e-03, 3.62301459e-04,\n",
       "       6.03246300e-04, 9.00147201e-04, 1.91063670e-05, 9.79467661e-06,\n",
       "       8.11027922e-04, 1.35845771e-04, 3.04049858e-04, 1.62626483e-03,\n",
       "       4.58858418e-03, 5.12322649e-05, 9.10726294e-04, 2.14729464e-03,\n",
       "       7.22500231e-06, 8.48369799e-05, 2.07612072e-04, 7.32277472e-04,\n",
       "       7.51756506e-07, 5.13279993e-06, 1.74404415e-05, 2.22370492e-05,\n",
       "       2.06528320e-03, 2.17391952e-03, 3.39726877e-04, 4.60457212e-04,\n",
       "       9.34758059e-04, 1.12393252e-04, 4.26463435e-04, 2.21727829e-03,\n",
       "       2.28633680e-04, 6.20202849e-05, 2.55749142e-04, 1.43338593e-03,\n",
       "       9.12855792e-04, 1.34759736e-05, 1.35732911e-05, 1.51588040e-04,\n",
       "       2.91074911e-04, 3.13758416e-03, 1.04414815e-03, 8.30613556e-05,\n",
       "       9.51830396e-03, 2.92349558e-03, 1.71296945e-04, 8.54280821e-05,\n",
       "       1.01356963e-05, 1.24691583e-04, 1.35102970e-06, 1.18783582e-06,\n",
       "       1.53504618e-05, 3.97086634e-03, 4.53719745e-04, 7.93428875e-04,\n",
       "       7.25444063e-05, 4.50845548e-06, 6.74577265e-04, 2.32781663e-04,\n",
       "       7.70412486e-05, 8.14621693e-05, 1.19651490e-03, 1.24360962e-04,\n",
       "       4.75085426e-05, 4.07963981e-04, 1.33933754e-06, 1.78215426e-03,\n",
       "       1.31583369e-04, 1.68157141e-03, 7.80278997e-05, 2.89160356e-04,\n",
       "       1.04939027e-04, 3.74507129e-04, 3.81101268e-05, 8.09770231e-05,\n",
       "       1.56689204e-05, 2.38686202e-03, 6.43659913e-04, 2.68168360e-05,\n",
       "       1.97493303e-03, 1.60557363e-04, 5.74106437e-05, 1.91846942e-04,\n",
       "       6.55877783e-05, 2.56757104e-05, 3.36922257e-05, 1.76091334e-03,\n",
       "       2.83607069e-04, 6.49085950e-05, 1.66279341e-04, 9.23977132e-06,\n",
       "       2.37623599e-06, 2.00917716e-05, 2.57801285e-04, 6.77056291e-04,\n",
       "       2.76034082e-05, 2.94543499e-04, 2.21375557e-06, 3.17882023e-05,\n",
       "       1.54356665e-04, 2.05288605e-03, 1.28842893e-04, 4.83021543e-05,\n",
       "       2.12189514e-05, 3.52300529e-04, 6.98648246e-05, 4.24466058e-05,\n",
       "       1.26561248e-03, 1.38282874e-03, 2.36211950e-04, 2.08862250e-05,\n",
       "       2.78061471e-04, 2.54198363e-04, 2.77705824e-04, 9.52003304e-07,\n",
       "       6.97779300e-04, 4.39008144e-05, 2.93854418e-04, 6.28137091e-04,\n",
       "       4.53573080e-05, 1.39572617e-04, 0.00000000e+00, 5.15043120e-05,\n",
       "       1.01459770e-04, 5.27824771e-04, 3.73226735e-05, 5.60407363e-07,\n",
       "       1.12262100e-03, 1.50726071e-05, 2.12960560e-05, 1.80735298e-04,\n",
       "       1.04441757e-03, 3.71885678e-04, 4.11178036e-06, 2.33240254e-04,\n",
       "       1.48326356e-04, 2.57829100e-05, 1.08111935e-04, 6.64532914e-04,\n",
       "       1.00451199e-03, 9.92301730e-04, 1.65482463e-05, 4.28713771e-06,\n",
       "       1.48205259e-04, 2.06785319e-05, 2.78721597e-05, 5.89922631e-04,\n",
       "       2.99121495e-04, 3.52022283e-06, 1.82874215e-05, 2.66125360e-03,\n",
       "       2.52514330e-03, 1.88772977e-05, 6.61137888e-04, 1.58420462e-04,\n",
       "       9.62434499e-03, 1.73799692e-05, 0.00000000e+00, 1.51146908e-03,\n",
       "       1.92599390e-05, 7.30775817e-07, 2.95349849e-05, 5.54490476e-05,\n",
       "       1.06220008e-02, 7.89781515e-05, 6.18448659e-04, 1.58159322e-04,\n",
       "       2.42181727e-05, 4.22070873e-04, 4.11514972e-01, 2.85640704e-03,\n",
       "       2.77261116e-03])"
      ]
     },
     "execution_count": 77,
     "metadata": {},
     "output_type": "execute_result"
    }
   ],
   "source": [
    "### Using feature importance, we can see which feature had most weight\n",
    "regrRM.feature_importances_"
   ]
  },
  {
   "cell_type": "code",
   "execution_count": 78,
   "id": "9ab55da6",
   "metadata": {},
   "outputs": [
    {
     "data": {
      "text/html": [
       "<div>\n",
       "<style scoped>\n",
       "    .dataframe tbody tr th:only-of-type {\n",
       "        vertical-align: middle;\n",
       "    }\n",
       "\n",
       "    .dataframe tbody tr th {\n",
       "        vertical-align: top;\n",
       "    }\n",
       "\n",
       "    .dataframe thead th {\n",
       "        text-align: right;\n",
       "    }\n",
       "</style>\n",
       "<table border=\"1\" class=\"dataframe\">\n",
       "  <thead>\n",
       "    <tr style=\"text-align: right;\">\n",
       "      <th></th>\n",
       "      <th>Variable</th>\n",
       "      <th>FeatureImportance</th>\n",
       "    </tr>\n",
       "  </thead>\n",
       "  <tbody>\n",
       "    <tr>\n",
       "      <th>230</th>\n",
       "      <td>rt_Entire home/apt</td>\n",
       "      <td>4.115150e-01</td>\n",
       "    </tr>\n",
       "    <tr>\n",
       "      <th>5</th>\n",
       "      <td>name_length</td>\n",
       "      <td>8.437309e-02</td>\n",
       "    </tr>\n",
       "    <tr>\n",
       "      <th>2</th>\n",
       "      <td>reviews_per_month</td>\n",
       "      <td>7.744569e-02</td>\n",
       "    </tr>\n",
       "    <tr>\n",
       "      <th>4</th>\n",
       "      <td>availability_365</td>\n",
       "      <td>7.279201e-02</td>\n",
       "    </tr>\n",
       "    <tr>\n",
       "      <th>8</th>\n",
       "      <td>ng_Manhattan</td>\n",
       "      <td>6.069489e-02</td>\n",
       "    </tr>\n",
       "    <tr>\n",
       "      <th>...</th>\n",
       "      <td>...</td>\n",
       "      <td>...</td>\n",
       "    </tr>\n",
       "    <tr>\n",
       "      <th>80</th>\n",
       "      <td>nh_Eltingville</td>\n",
       "      <td>7.517565e-07</td>\n",
       "    </tr>\n",
       "    <tr>\n",
       "      <th>221</th>\n",
       "      <td>nh_Westerleigh</td>\n",
       "      <td>7.307758e-07</td>\n",
       "    </tr>\n",
       "    <tr>\n",
       "      <th>187</th>\n",
       "      <td>nh_Silver Lake</td>\n",
       "      <td>5.604074e-07</td>\n",
       "    </tr>\n",
       "    <tr>\n",
       "      <th>182</th>\n",
       "      <td>nh_Rossville</td>\n",
       "      <td>0.000000e+00</td>\n",
       "    </tr>\n",
       "    <tr>\n",
       "      <th>218</th>\n",
       "      <td>nh_West Farms</td>\n",
       "      <td>0.000000e+00</td>\n",
       "    </tr>\n",
       "  </tbody>\n",
       "</table>\n",
       "<p>233 rows × 2 columns</p>\n",
       "</div>"
      ],
      "text/plain": [
       "               Variable  FeatureImportance\n",
       "230  rt_Entire home/apt       4.115150e-01\n",
       "5           name_length       8.437309e-02\n",
       "2     reviews_per_month       7.744569e-02\n",
       "4      availability_365       7.279201e-02\n",
       "8          ng_Manhattan       6.069489e-02\n",
       "..                  ...                ...\n",
       "80       nh_Eltingville       7.517565e-07\n",
       "221      nh_Westerleigh       7.307758e-07\n",
       "187      nh_Silver Lake       5.604074e-07\n",
       "182        nh_Rossville       0.000000e+00\n",
       "218       nh_West Farms       0.000000e+00\n",
       "\n",
       "[233 rows x 2 columns]"
      ]
     },
     "execution_count": 78,
     "metadata": {},
     "output_type": "execute_result"
    }
   ],
   "source": [
    "CoeffRM1 = pd.DataFrame(columns=[\"Variable\",\"FeatureImportance\"])\n",
    "CoeffRM1[\"Variable\"]=x_trainL11.columns\n",
    "CoeffRM1[\"FeatureImportance\"]=regrRM.feature_importances_\n",
    "CoeffRM1.sort_values(\"FeatureImportance\", ascending = False)"
   ]
  },
  {
   "cell_type": "code",
   "execution_count": 79,
   "id": "fb207c72",
   "metadata": {},
   "outputs": [
    {
     "data": {
      "text/plain": [
       "{'bootstrap': True,\n",
       " 'ccp_alpha': 0.0,\n",
       " 'criterion': 'squared_error',\n",
       " 'max_depth': None,\n",
       " 'max_features': 'auto',\n",
       " 'max_leaf_nodes': None,\n",
       " 'max_samples': None,\n",
       " 'min_impurity_decrease': 0.0,\n",
       " 'min_samples_leaf': 1,\n",
       " 'min_samples_split': 2,\n",
       " 'min_weight_fraction_leaf': 0.0,\n",
       " 'n_estimators': 300,\n",
       " 'n_jobs': None,\n",
       " 'oob_score': False,\n",
       " 'random_state': None,\n",
       " 'verbose': 0,\n",
       " 'warm_start': False}"
      ]
     },
     "execution_count": 79,
     "metadata": {},
     "output_type": "execute_result"
    }
   ],
   "source": [
    "regrRM.get_params()"
   ]
  },
  {
   "cell_type": "code",
   "execution_count": 80,
   "id": "7918f604",
   "metadata": {},
   "outputs": [
    {
     "data": {
      "text/plain": [
       "RandomForestRegressor(max_depth=50, min_samples_leaf=4, min_samples_split=5,\n",
       "                      n_estimators=200)"
      ]
     },
     "execution_count": 80,
     "metadata": {},
     "output_type": "execute_result"
    }
   ],
   "source": [
    "regrRM2 = RandomForestRegressor(n_estimators=200, max_depth = 50, min_samples_split = 5,min_samples_leaf =4)\n",
    "regrRM2.fit(x_trainL11, y_trainL11)"
   ]
  },
  {
   "cell_type": "code",
   "execution_count": 81,
   "id": "7b60ffc9",
   "metadata": {},
   "outputs": [
    {
     "name": "stdout",
     "output_type": "stream",
     "text": [
      "0.797828746678048\n",
      "34.41011330502461\n"
     ]
    }
   ],
   "source": [
    "### We get a smaller value for R squared\n",
    "print(regrRM2.score(x_trainL11, y_trainL11))\n",
    "y_predL1= regrRM2.predict(x_testL11)\n",
    "print(np.sqrt(metrics.mean_squared_error(y_testL11,y_predL1)))"
   ]
  },
  {
   "cell_type": "code",
   "execution_count": 82,
   "id": "1fe1f5b3",
   "metadata": {},
   "outputs": [
    {
     "data": {
      "text/html": [
       "<div>\n",
       "<style scoped>\n",
       "    .dataframe tbody tr th:only-of-type {\n",
       "        vertical-align: middle;\n",
       "    }\n",
       "\n",
       "    .dataframe tbody tr th {\n",
       "        vertical-align: top;\n",
       "    }\n",
       "\n",
       "    .dataframe thead th {\n",
       "        text-align: right;\n",
       "    }\n",
       "</style>\n",
       "<table border=\"1\" class=\"dataframe\">\n",
       "  <thead>\n",
       "    <tr style=\"text-align: right;\">\n",
       "      <th></th>\n",
       "      <th>Variable</th>\n",
       "      <th>FeatureImportance</th>\n",
       "    </tr>\n",
       "  </thead>\n",
       "  <tbody>\n",
       "    <tr>\n",
       "      <th>230</th>\n",
       "      <td>rt_Entire home/apt</td>\n",
       "      <td>0.501173</td>\n",
       "    </tr>\n",
       "    <tr>\n",
       "      <th>8</th>\n",
       "      <td>ng_Manhattan</td>\n",
       "      <td>0.073974</td>\n",
       "    </tr>\n",
       "    <tr>\n",
       "      <th>4</th>\n",
       "      <td>availability_365</td>\n",
       "      <td>0.064922</td>\n",
       "    </tr>\n",
       "    <tr>\n",
       "      <th>2</th>\n",
       "      <td>reviews_per_month</td>\n",
       "      <td>0.062492</td>\n",
       "    </tr>\n",
       "    <tr>\n",
       "      <th>5</th>\n",
       "      <td>name_length</td>\n",
       "      <td>0.062305</td>\n",
       "    </tr>\n",
       "    <tr>\n",
       "      <th>...</th>\n",
       "      <td>...</td>\n",
       "      <td>...</td>\n",
       "    </tr>\n",
       "    <tr>\n",
       "      <th>130</th>\n",
       "      <td>nh_Manhattan Beach</td>\n",
       "      <td>0.000000</td>\n",
       "    </tr>\n",
       "    <tr>\n",
       "      <th>126</th>\n",
       "      <td>nh_Little Neck</td>\n",
       "      <td>0.000000</td>\n",
       "    </tr>\n",
       "    <tr>\n",
       "      <th>123</th>\n",
       "      <td>nh_Laurelton</td>\n",
       "      <td>0.000000</td>\n",
       "    </tr>\n",
       "    <tr>\n",
       "      <th>117</th>\n",
       "      <td>nh_Jamaica Hills</td>\n",
       "      <td>0.000000</td>\n",
       "    </tr>\n",
       "    <tr>\n",
       "      <th>116</th>\n",
       "      <td>nh_Jamaica Estates</td>\n",
       "      <td>0.000000</td>\n",
       "    </tr>\n",
       "  </tbody>\n",
       "</table>\n",
       "<p>233 rows × 2 columns</p>\n",
       "</div>"
      ],
      "text/plain": [
       "               Variable  FeatureImportance\n",
       "230  rt_Entire home/apt           0.501173\n",
       "8          ng_Manhattan           0.073974\n",
       "4      availability_365           0.064922\n",
       "2     reviews_per_month           0.062492\n",
       "5           name_length           0.062305\n",
       "..                  ...                ...\n",
       "130  nh_Manhattan Beach           0.000000\n",
       "126      nh_Little Neck           0.000000\n",
       "123        nh_Laurelton           0.000000\n",
       "117    nh_Jamaica Hills           0.000000\n",
       "116  nh_Jamaica Estates           0.000000\n",
       "\n",
       "[233 rows x 2 columns]"
      ]
     },
     "execution_count": 82,
     "metadata": {},
     "output_type": "execute_result"
    }
   ],
   "source": [
    "CoeffRM2 = pd.DataFrame(columns=[\"Variable\",\"FeatureImportance\"])\n",
    "CoeffRM2[\"Variable\"]=x_trainL11.columns\n",
    "CoeffRM2[\"FeatureImportance\"]=regrRM2.feature_importances_\n",
    "CoeffRM2.sort_values(\"FeatureImportance\", ascending = False)\n"
   ]
  },
  {
   "cell_type": "code",
   "execution_count": 83,
   "id": "b028598c",
   "metadata": {},
   "outputs": [],
   "source": [
    "### To find best values for the RF parameters, let us use cross validation\n",
    "from sklearn.model_selection import RandomizedSearchCV\n",
    "\n",
    "n_estimators = [int(x) for x in np.linspace(start = 200, stop = 400,num=2)]\n",
    "max_features = ['sqrt']\n",
    "max_depth = [int(x) for x in np.linspace(100, 110, num = 1)]\n",
    "max_depth.append(None)\n",
    "min_samples_split = [2,10]\n",
    "min_samples_leaf = [1, 2]\n",
    "bootstrap = [True]\n",
    "# Create the random grid\n",
    "rm_grid = {'n_estimators': n_estimators,\n",
    "               'max_features': max_features,\n",
    "               'max_depth': max_depth,\n",
    "               'min_samples_split': min_samples_split,\n",
    "               'min_samples_leaf': min_samples_leaf,\n",
    "               'bootstrap': bootstrap}"
   ]
  },
  {
   "cell_type": "code",
   "execution_count": 84,
   "id": "4b72402a",
   "metadata": {},
   "outputs": [
    {
     "name": "stdout",
     "output_type": "stream",
     "text": [
      "{'n_estimators': [200, 400], 'max_features': ['sqrt'], 'max_depth': [100, None], 'min_samples_split': [2, 10], 'min_samples_leaf': [1, 2], 'bootstrap': [True]}\n"
     ]
    }
   ],
   "source": [
    "print(rm_grid)"
   ]
  },
  {
   "cell_type": "code",
   "execution_count": 85,
   "id": "6a80371c",
   "metadata": {},
   "outputs": [],
   "source": [
    "import time"
   ]
  },
  {
   "cell_type": "code",
   "execution_count": 86,
   "id": "74a20204",
   "metadata": {},
   "outputs": [
    {
     "name": "stdout",
     "output_type": "stream",
     "text": [
      "Fitting 2 folds for each of 16 candidates, totalling 32 fits\n"
     ]
    },
    {
     "name": "stderr",
     "output_type": "stream",
     "text": [
      "C:\\Users\\athar\\anaconda3\\lib\\site-packages\\sklearn\\model_selection\\_search.py:292: UserWarning: The total space of parameters 16 is smaller than n_iter=90. Running 16 iterations. For exhaustive searches, use GridSearchCV.\n",
      "  warnings.warn(\n"
     ]
    }
   ],
   "source": [
    "# Use the random grid to search for best hyperparameters\n",
    "t1 = time.time()\n",
    "rf2 = RandomForestRegressor()\n",
    "# Random search of parameters, using 3 fold cross validation, \n",
    "rf2_random = RandomizedSearchCV(estimator = rf2, param_distributions = rm_grid, n_iter = 90, cv = 2, verbose=2, random_state=42, n_jobs = -1)\n",
    "# Fit the random search model\n",
    "rf2_random.fit(x_trainL11, y_trainL11)\n",
    "t2 =time.time()"
   ]
  },
  {
   "cell_type": "code",
   "execution_count": 87,
   "id": "b424af80",
   "metadata": {},
   "outputs": [
    {
     "data": {
      "text/plain": [
       "3.3407491485277814"
      ]
     },
     "execution_count": 87,
     "metadata": {},
     "output_type": "execute_result"
    }
   ],
   "source": [
    "### Time taken\n",
    "(t2-t1)/60"
   ]
  },
  {
   "cell_type": "code",
   "execution_count": 88,
   "id": "cbe59cda",
   "metadata": {},
   "outputs": [
    {
     "data": {
      "text/plain": [
       "{'n_estimators': 400,\n",
       " 'min_samples_split': 10,\n",
       " 'min_samples_leaf': 1,\n",
       " 'max_features': 'sqrt',\n",
       " 'max_depth': 100,\n",
       " 'bootstrap': True}"
      ]
     },
     "execution_count": 88,
     "metadata": {},
     "output_type": "execute_result"
    }
   ],
   "source": [
    "### Here we can see Best parameters for the best model\n",
    "rf2_random.best_params_"
   ]
  },
  {
   "cell_type": "code",
   "execution_count": 89,
   "id": "25907bb7",
   "metadata": {},
   "outputs": [
    {
     "data": {
      "text/plain": [
       "0.7815584186804732"
      ]
     },
     "execution_count": 89,
     "metadata": {},
     "output_type": "execute_result"
    }
   ],
   "source": [
    "### Final R squared value\n",
    "rf2_random.score(x_trainL11, y_trainL11)"
   ]
  },
  {
   "cell_type": "code",
   "execution_count": 90,
   "id": "89dab51a",
   "metadata": {},
   "outputs": [
    {
     "name": "stdout",
     "output_type": "stream",
     "text": [
      "33.85957875352338\n"
     ]
    }
   ],
   "source": [
    "### We finally have the least RMSE among all model!\n",
    "y_predL1= rf2_random.predict(x_testL11)\n",
    "print(np.sqrt(metrics.mean_squared_error(y_testL11,y_predL1)))"
   ]
  },
  {
   "cell_type": "code",
   "execution_count": 91,
   "id": "0bd0f742",
   "metadata": {},
   "outputs": [],
   "source": [
    "### Finally lets compare all models\n",
    "### Including models from my previous project with pyspark\n",
    "rmsedt = {\"Model\":[\"RF1_Sprk\",\"RF2_Sprk\",\"RF3_Sprk\",\"LR\",\"L1\",\"RFR\"],\"RMSE\":[71.55745125705758,65.7207885074504\n",
    ",62.51297007998151,37.68939882420686,35.12428625156702,34.05098593042094]}\n",
    "rmsedf = pd.DataFrame(rmsedt)\n",
    "rsqdt = {\"Model\":[\"LR\",\"L1\",\"RFR\"],\"RSquared\":[50.3,56.7,77.8]}\n",
    "rsqdt = pd.DataFrame(rsqdt)"
   ]
  },
  {
   "cell_type": "code",
   "execution_count": 92,
   "id": "4d4061df",
   "metadata": {},
   "outputs": [
    {
     "data": {
      "image/png": "[encoded data removed]",
      "text/plain": [
       "<Figure size 360x360 with 1 Axes>"
      ]
     },
     "metadata": {},
     "output_type": "display_data"
    }
   ],
   "source": [
    "sns.catplot(x=\"Model\", y=\"RMSE\", linestyles=[\"-\"],\n",
    "            kind=\"point\", data=rmsedf);"
   ]
  },
  {
   "cell_type": "code",
   "execution_count": 93,
   "id": "5c1013aa",
   "metadata": {},
   "outputs": [
    {
     "data": {
      "image/png": "[encoded data removed]",
      "text/plain": [
       "<Figure size 360x360 with 1 Axes>"
      ]
     },
     "metadata": {},
     "output_type": "display_data"
    }
   ],
   "source": [
    "sns.catplot(x=\"Model\", y=\"RSquared\", linestyles=[\"--\"], color =\"green\", kind=\"point\", data=rsqdt);"
   ]
  },
  {
   "cell_type": "code",
   "execution_count": 94,
   "id": "aa72d80c",
   "metadata": {},
   "outputs": [
    {
     "data": {
      "text/plain": [
       "Index(['minimum_nights', 'number_of_reviews', 'reviews_per_month',\n",
       "       'calculated_host_listings_count', 'availability_365', 'name_length',\n",
       "       'ng_Bronx', 'ng_Brooklyn', 'ng_Manhattan', 'ng_Queens',\n",
       "       ...\n",
       "       'nh_Williamsbridge', 'nh_Williamsburg', 'nh_Willowbrook',\n",
       "       'nh_Windsor Terrace', 'nh_Woodhaven', 'nh_Woodlawn', 'nh_Woodside',\n",
       "       'rt_Entire home/apt', 'rt_Private room', 'rt_Shared room'],\n",
       "      dtype='object', length=233)"
      ]
     },
     "execution_count": 94,
     "metadata": {},
     "output_type": "execute_result"
    }
   ],
   "source": [
    "XL1.columns"
   ]
  },
  {
   "cell_type": "code",
   "execution_count": 95,
   "id": "e4aff3d9",
   "metadata": {},
   "outputs": [],
   "source": [
    "def predict_price(neighbourhood_grp, neighbourhood, room_type, min_nights, no_of_reviews, \n",
    "                  reviews_per_month, host_count, availability_365, name_length):\n",
    "    ng_index = np.where(XL1.columns==neighbourhood_grp)[0][0]\n",
    "    nh_index = np.where(XL1.columns==neighbourhood)[0][0]\n",
    "    rt_index = np.where(XL1.columns==room_type)[0][0]\n",
    "    \n",
    "    x=np.zeros(len(XL1.columns))\n",
    "    x[0]=min_nights\n",
    "    x[1]=no_of_reviews\n",
    "    x[2]=reviews_per_month\n",
    "    x[3]=host_count\n",
    "    x[4]=availability_365\n",
    "    x[5]=name_length\n",
    "    \n",
    "    if ng_index>=0:\n",
    "        x[ng_index]=1\n",
    "    if nh_index>=0:\n",
    "        x[nh_index]=1 \n",
    "    if rt_index>=0:\n",
    "        x[rt_index]=1\n",
    "        \n",
    "    return rf2_random.predict([x])[0]"
   ]
  },
  {
   "cell_type": "code",
   "execution_count": 96,
   "id": "46682438",
   "metadata": {},
   "outputs": [
    {
     "name": "stderr",
     "output_type": "stream",
     "text": [
      "C:\\Users\\athar\\anaconda3\\lib\\site-packages\\sklearn\\base.py:445: UserWarning: X does not have valid feature names, but RandomForestRegressor was fitted with feature names\n",
      "  warnings.warn(\n"
     ]
    },
    {
     "data": {
      "text/plain": [
       "120.08135819526413"
      ]
     },
     "execution_count": 96,
     "metadata": {},
     "output_type": "execute_result"
    }
   ],
   "source": [
    "predict_price('ng_Manhattan','nh_Williamsburg','rt_Private room',2,4,50,100,365,5)"
   ]
  },
  {
   "cell_type": "code",
   "execution_count": 97,
   "id": "ea8e337c",
   "metadata": {},
   "outputs": [
    {
     "name": "stderr",
     "output_type": "stream",
     "text": [
      "C:\\Users\\athar\\anaconda3\\lib\\site-packages\\sklearn\\base.py:445: UserWarning: X does not have valid feature names, but RandomForestRegressor was fitted with feature names\n",
      "  warnings.warn(\n"
     ]
    },
    {
     "data": {
      "text/plain": [
       "89.02704909571634"
      ]
     },
     "execution_count": 97,
     "metadata": {},
     "output_type": "execute_result"
    }
   ],
   "source": [
    "predict_price('ng_Staten Island','nh_Williamsburg','rt_Private room',2,4,50,100,365,5)"
   ]
  },
  {
   "cell_type": "code",
   "execution_count": 98,
   "id": "d83c779b",
   "metadata": {},
   "outputs": [],
   "source": [
    "import pickle\n",
    "with open('Airbnb_NYC_Price_Prediction.pickle','wb') as f:\n",
    "    pickle.dump(rf2_random,f)"
   ]
  },
  {
   "cell_type": "code",
   "execution_count": 99,
   "id": "49f9029e",
   "metadata": {},
   "outputs": [],
   "source": [
    "import json\n",
    "columns={\n",
    "    'data_columns':[col.lower() for col in XL1.columns]\n",
    "}\n",
    "with open(\"columns.json\",\"w\") as f:\n",
    "    f.write(json.dumps(columns))"
   ]
  }
 ],
 "metadata": {
  "kernelspec": {
   "display_name": "Python 3 (ipykernel)",
   "language": "python",
   "name": "python3"
  },
  "language_info": {
   "codemirror_mode": {
    "name": "ipython",
    "version": 3
   },
   "file_extension": ".py",
   "mimetype": "text/x-python",
   "name": "python",
   "nbconvert_exporter": "python",
   "pygments_lexer": "ipython3",
   "version": "3.8.5"
  }
 },
 "nbformat": 4,
 "nbformat_minor": 5
}
